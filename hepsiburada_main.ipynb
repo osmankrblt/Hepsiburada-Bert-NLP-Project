{
 "nbformat": 4,
 "nbformat_minor": 0,
 "metadata": {
  "colab": {
   "name": "hepsiburada_main.ipynb",
   "provenance": [],
   "collapsed_sections": [],
   "mount_file_id": "1_Zn0nM2RQ2vm5n69ps9SEVzaWKP-42mU",
   "authorship_tag": "ABX9TyNEGsC5XB1RPFeq+uNIv62s"
  },
  "kernelspec": {
   "name": "python3",
   "display_name": "Python 3"
  },
  "language_info": {
   "name": "python"
  },
  "accelerator": "GPU",
  "gpuClass": "standard",
  "widgets": {
   "application/vnd.jupyter.widget-state+json": {
    "634b275583314630b3bd9ac68f97d256": {
     "model_module": "@jupyter-widgets/controls",
     "model_name": "HBoxModel",
     "model_module_version": "1.5.0",
     "state": {
      "_dom_classes": [],
      "_model_module": "@jupyter-widgets/controls",
      "_model_module_version": "1.5.0",
      "_model_name": "HBoxModel",
      "_view_count": null,
      "_view_module": "@jupyter-widgets/controls",
      "_view_module_version": "1.5.0",
      "_view_name": "HBoxView",
      "box_style": "",
      "children": [
       "IPY_MODEL_f19857aa37c34f84a1f43ec38900b23d",
       "IPY_MODEL_b9ad16d7be024b3084ef92bb13305334",
       "IPY_MODEL_b3703aa5c3bd44fda6dc80ae1369684d"
      ],
      "layout": "IPY_MODEL_2a4bbdd0b6e1400b8ec0309145b49afb"
     }
    },
    "f19857aa37c34f84a1f43ec38900b23d": {
     "model_module": "@jupyter-widgets/controls",
     "model_name": "HTMLModel",
     "model_module_version": "1.5.0",
     "state": {
      "_dom_classes": [],
      "_model_module": "@jupyter-widgets/controls",
      "_model_module_version": "1.5.0",
      "_model_name": "HTMLModel",
      "_view_count": null,
      "_view_module": "@jupyter-widgets/controls",
      "_view_module_version": "1.5.0",
      "_view_name": "HTMLView",
      "description": "",
      "description_tooltip": null,
      "layout": "IPY_MODEL_6029d031fe9f44908a3699eefda0ec43",
      "placeholder": "​",
      "style": "IPY_MODEL_3cadc8f712eb43f58749e311aeb06363",
      "value": "Downloading: 100%"
     }
    },
    "b9ad16d7be024b3084ef92bb13305334": {
     "model_module": "@jupyter-widgets/controls",
     "model_name": "FloatProgressModel",
     "model_module_version": "1.5.0",
     "state": {
      "_dom_classes": [],
      "_model_module": "@jupyter-widgets/controls",
      "_model_module_version": "1.5.0",
      "_model_name": "FloatProgressModel",
      "_view_count": null,
      "_view_module": "@jupyter-widgets/controls",
      "_view_module_version": "1.5.0",
      "_view_name": "ProgressView",
      "bar_style": "success",
      "description": "",
      "description_tooltip": null,
      "layout": "IPY_MODEL_5e176bd63c9244b1828176ba5dd648cb",
      "max": 60,
      "min": 0,
      "orientation": "horizontal",
      "style": "IPY_MODEL_06898d6234a04f918de518c45cde8c6c",
      "value": 60
     }
    },
    "b3703aa5c3bd44fda6dc80ae1369684d": {
     "model_module": "@jupyter-widgets/controls",
     "model_name": "HTMLModel",
     "model_module_version": "1.5.0",
     "state": {
      "_dom_classes": [],
      "_model_module": "@jupyter-widgets/controls",
      "_model_module_version": "1.5.0",
      "_model_name": "HTMLModel",
      "_view_count": null,
      "_view_module": "@jupyter-widgets/controls",
      "_view_module_version": "1.5.0",
      "_view_name": "HTMLView",
      "description": "",
      "description_tooltip": null,
      "layout": "IPY_MODEL_3ea1b6db23d748bc94e007adcd7d14b8",
      "placeholder": "​",
      "style": "IPY_MODEL_b78f835bf3a741fd870940048a867c82",
      "value": " 60.0/60.0 [00:00&lt;00:00, 1.42kB/s]"
     }
    },
    "2a4bbdd0b6e1400b8ec0309145b49afb": {
     "model_module": "@jupyter-widgets/base",
     "model_name": "LayoutModel",
     "model_module_version": "1.2.0",
     "state": {
      "_model_module": "@jupyter-widgets/base",
      "_model_module_version": "1.2.0",
      "_model_name": "LayoutModel",
      "_view_count": null,
      "_view_module": "@jupyter-widgets/base",
      "_view_module_version": "1.2.0",
      "_view_name": "LayoutView",
      "align_content": null,
      "align_items": null,
      "align_self": null,
      "border": null,
      "bottom": null,
      "display": null,
      "flex": null,
      "flex_flow": null,
      "grid_area": null,
      "grid_auto_columns": null,
      "grid_auto_flow": null,
      "grid_auto_rows": null,
      "grid_column": null,
      "grid_gap": null,
      "grid_row": null,
      "grid_template_areas": null,
      "grid_template_columns": null,
      "grid_template_rows": null,
      "height": null,
      "justify_content": null,
      "justify_items": null,
      "left": null,
      "margin": null,
      "max_height": null,
      "max_width": null,
      "min_height": null,
      "min_width": null,
      "object_fit": null,
      "object_position": null,
      "order": null,
      "overflow": null,
      "overflow_x": null,
      "overflow_y": null,
      "padding": null,
      "right": null,
      "top": null,
      "visibility": null,
      "width": null
     }
    },
    "6029d031fe9f44908a3699eefda0ec43": {
     "model_module": "@jupyter-widgets/base",
     "model_name": "LayoutModel",
     "model_module_version": "1.2.0",
     "state": {
      "_model_module": "@jupyter-widgets/base",
      "_model_module_version": "1.2.0",
      "_model_name": "LayoutModel",
      "_view_count": null,
      "_view_module": "@jupyter-widgets/base",
      "_view_module_version": "1.2.0",
      "_view_name": "LayoutView",
      "align_content": null,
      "align_items": null,
      "align_self": null,
      "border": null,
      "bottom": null,
      "display": null,
      "flex": null,
      "flex_flow": null,
      "grid_area": null,
      "grid_auto_columns": null,
      "grid_auto_flow": null,
      "grid_auto_rows": null,
      "grid_column": null,
      "grid_gap": null,
      "grid_row": null,
      "grid_template_areas": null,
      "grid_template_columns": null,
      "grid_template_rows": null,
      "height": null,
      "justify_content": null,
      "justify_items": null,
      "left": null,
      "margin": null,
      "max_height": null,
      "max_width": null,
      "min_height": null,
      "min_width": null,
      "object_fit": null,
      "object_position": null,
      "order": null,
      "overflow": null,
      "overflow_x": null,
      "overflow_y": null,
      "padding": null,
      "right": null,
      "top": null,
      "visibility": null,
      "width": null
     }
    },
    "3cadc8f712eb43f58749e311aeb06363": {
     "model_module": "@jupyter-widgets/controls",
     "model_name": "DescriptionStyleModel",
     "model_module_version": "1.5.0",
     "state": {
      "_model_module": "@jupyter-widgets/controls",
      "_model_module_version": "1.5.0",
      "_model_name": "DescriptionStyleModel",
      "_view_count": null,
      "_view_module": "@jupyter-widgets/base",
      "_view_module_version": "1.2.0",
      "_view_name": "StyleView",
      "description_width": ""
     }
    },
    "5e176bd63c9244b1828176ba5dd648cb": {
     "model_module": "@jupyter-widgets/base",
     "model_name": "LayoutModel",
     "model_module_version": "1.2.0",
     "state": {
      "_model_module": "@jupyter-widgets/base",
      "_model_module_version": "1.2.0",
      "_model_name": "LayoutModel",
      "_view_count": null,
      "_view_module": "@jupyter-widgets/base",
      "_view_module_version": "1.2.0",
      "_view_name": "LayoutView",
      "align_content": null,
      "align_items": null,
      "align_self": null,
      "border": null,
      "bottom": null,
      "display": null,
      "flex": null,
      "flex_flow": null,
      "grid_area": null,
      "grid_auto_columns": null,
      "grid_auto_flow": null,
      "grid_auto_rows": null,
      "grid_column": null,
      "grid_gap": null,
      "grid_row": null,
      "grid_template_areas": null,
      "grid_template_columns": null,
      "grid_template_rows": null,
      "height": null,
      "justify_content": null,
      "justify_items": null,
      "left": null,
      "margin": null,
      "max_height": null,
      "max_width": null,
      "min_height": null,
      "min_width": null,
      "object_fit": null,
      "object_position": null,
      "order": null,
      "overflow": null,
      "overflow_x": null,
      "overflow_y": null,
      "padding": null,
      "right": null,
      "top": null,
      "visibility": null,
      "width": null
     }
    },
    "06898d6234a04f918de518c45cde8c6c": {
     "model_module": "@jupyter-widgets/controls",
     "model_name": "ProgressStyleModel",
     "model_module_version": "1.5.0",
     "state": {
      "_model_module": "@jupyter-widgets/controls",
      "_model_module_version": "1.5.0",
      "_model_name": "ProgressStyleModel",
      "_view_count": null,
      "_view_module": "@jupyter-widgets/base",
      "_view_module_version": "1.2.0",
      "_view_name": "StyleView",
      "bar_color": null,
      "description_width": ""
     }
    },
    "3ea1b6db23d748bc94e007adcd7d14b8": {
     "model_module": "@jupyter-widgets/base",
     "model_name": "LayoutModel",
     "model_module_version": "1.2.0",
     "state": {
      "_model_module": "@jupyter-widgets/base",
      "_model_module_version": "1.2.0",
      "_model_name": "LayoutModel",
      "_view_count": null,
      "_view_module": "@jupyter-widgets/base",
      "_view_module_version": "1.2.0",
      "_view_name": "LayoutView",
      "align_content": null,
      "align_items": null,
      "align_self": null,
      "border": null,
      "bottom": null,
      "display": null,
      "flex": null,
      "flex_flow": null,
      "grid_area": null,
      "grid_auto_columns": null,
      "grid_auto_flow": null,
      "grid_auto_rows": null,
      "grid_column": null,
      "grid_gap": null,
      "grid_row": null,
      "grid_template_areas": null,
      "grid_template_columns": null,
      "grid_template_rows": null,
      "height": null,
      "justify_content": null,
      "justify_items": null,
      "left": null,
      "margin": null,
      "max_height": null,
      "max_width": null,
      "min_height": null,
      "min_width": null,
      "object_fit": null,
      "object_position": null,
      "order": null,
      "overflow": null,
      "overflow_x": null,
      "overflow_y": null,
      "padding": null,
      "right": null,
      "top": null,
      "visibility": null,
      "width": null
     }
    },
    "b78f835bf3a741fd870940048a867c82": {
     "model_module": "@jupyter-widgets/controls",
     "model_name": "DescriptionStyleModel",
     "model_module_version": "1.5.0",
     "state": {
      "_model_module": "@jupyter-widgets/controls",
      "_model_module_version": "1.5.0",
      "_model_name": "DescriptionStyleModel",
      "_view_count": null,
      "_view_module": "@jupyter-widgets/base",
      "_view_module_version": "1.2.0",
      "_view_name": "StyleView",
      "description_width": ""
     }
    },
    "1c9b1faed2fd48709909bd2a74c892c2": {
     "model_module": "@jupyter-widgets/controls",
     "model_name": "HBoxModel",
     "model_module_version": "1.5.0",
     "state": {
      "_dom_classes": [],
      "_model_module": "@jupyter-widgets/controls",
      "_model_module_version": "1.5.0",
      "_model_name": "HBoxModel",
      "_view_count": null,
      "_view_module": "@jupyter-widgets/controls",
      "_view_module_version": "1.5.0",
      "_view_name": "HBoxView",
      "box_style": "",
      "children": [
       "IPY_MODEL_35da4e2968854553b6c59d22f0546521",
       "IPY_MODEL_0348e4386f6549cbbb24b932dc317237",
       "IPY_MODEL_9c8f5262eefe45288f4cd3a070064a01"
      ],
      "layout": "IPY_MODEL_ef164a29d5f54884ab456b7c4e0d3236"
     }
    },
    "35da4e2968854553b6c59d22f0546521": {
     "model_module": "@jupyter-widgets/controls",
     "model_name": "HTMLModel",
     "model_module_version": "1.5.0",
     "state": {
      "_dom_classes": [],
      "_model_module": "@jupyter-widgets/controls",
      "_model_module_version": "1.5.0",
      "_model_name": "HTMLModel",
      "_view_count": null,
      "_view_module": "@jupyter-widgets/controls",
      "_view_module_version": "1.5.0",
      "_view_name": "HTMLView",
      "description": "",
      "description_tooltip": null,
      "layout": "IPY_MODEL_f65e52d9ea4c41cd8f8ab9ead1b2954a",
      "placeholder": "​",
      "style": "IPY_MODEL_5a4b61c56c3e4865b9177b445f833e79",
      "value": "Downloading: 100%"
     }
    },
    "0348e4386f6549cbbb24b932dc317237": {
     "model_module": "@jupyter-widgets/controls",
     "model_name": "FloatProgressModel",
     "model_module_version": "1.5.0",
     "state": {
      "_dom_classes": [],
      "_model_module": "@jupyter-widgets/controls",
      "_model_module_version": "1.5.0",
      "_model_name": "FloatProgressModel",
      "_view_count": null,
      "_view_module": "@jupyter-widgets/controls",
      "_view_module_version": "1.5.0",
      "_view_name": "ProgressView",
      "bar_style": "success",
      "description": "",
      "description_tooltip": null,
      "layout": "IPY_MODEL_22f25a12288043efa457dbf082374cf7",
      "max": 385,
      "min": 0,
      "orientation": "horizontal",
      "style": "IPY_MODEL_8d2430494e684496a5c018e4d273c6c2",
      "value": 385
     }
    },
    "9c8f5262eefe45288f4cd3a070064a01": {
     "model_module": "@jupyter-widgets/controls",
     "model_name": "HTMLModel",
     "model_module_version": "1.5.0",
     "state": {
      "_dom_classes": [],
      "_model_module": "@jupyter-widgets/controls",
      "_model_module_version": "1.5.0",
      "_model_name": "HTMLModel",
      "_view_count": null,
      "_view_module": "@jupyter-widgets/controls",
      "_view_module_version": "1.5.0",
      "_view_name": "HTMLView",
      "description": "",
      "description_tooltip": null,
      "layout": "IPY_MODEL_5f92a9f50ec3410bbabc689fb32fd83d",
      "placeholder": "​",
      "style": "IPY_MODEL_16a31bb0a6e541b28e487ae19d436f3d",
      "value": " 385/385 [00:00&lt;00:00, 12.7kB/s]"
     }
    },
    "ef164a29d5f54884ab456b7c4e0d3236": {
     "model_module": "@jupyter-widgets/base",
     "model_name": "LayoutModel",
     "model_module_version": "1.2.0",
     "state": {
      "_model_module": "@jupyter-widgets/base",
      "_model_module_version": "1.2.0",
      "_model_name": "LayoutModel",
      "_view_count": null,
      "_view_module": "@jupyter-widgets/base",
      "_view_module_version": "1.2.0",
      "_view_name": "LayoutView",
      "align_content": null,
      "align_items": null,
      "align_self": null,
      "border": null,
      "bottom": null,
      "display": null,
      "flex": null,
      "flex_flow": null,
      "grid_area": null,
      "grid_auto_columns": null,
      "grid_auto_flow": null,
      "grid_auto_rows": null,
      "grid_column": null,
      "grid_gap": null,
      "grid_row": null,
      "grid_template_areas": null,
      "grid_template_columns": null,
      "grid_template_rows": null,
      "height": null,
      "justify_content": null,
      "justify_items": null,
      "left": null,
      "margin": null,
      "max_height": null,
      "max_width": null,
      "min_height": null,
      "min_width": null,
      "object_fit": null,
      "object_position": null,
      "order": null,
      "overflow": null,
      "overflow_x": null,
      "overflow_y": null,
      "padding": null,
      "right": null,
      "top": null,
      "visibility": null,
      "width": null
     }
    },
    "f65e52d9ea4c41cd8f8ab9ead1b2954a": {
     "model_module": "@jupyter-widgets/base",
     "model_name": "LayoutModel",
     "model_module_version": "1.2.0",
     "state": {
      "_model_module": "@jupyter-widgets/base",
      "_model_module_version": "1.2.0",
      "_model_name": "LayoutModel",
      "_view_count": null,
      "_view_module": "@jupyter-widgets/base",
      "_view_module_version": "1.2.0",
      "_view_name": "LayoutView",
      "align_content": null,
      "align_items": null,
      "align_self": null,
      "border": null,
      "bottom": null,
      "display": null,
      "flex": null,
      "flex_flow": null,
      "grid_area": null,
      "grid_auto_columns": null,
      "grid_auto_flow": null,
      "grid_auto_rows": null,
      "grid_column": null,
      "grid_gap": null,
      "grid_row": null,
      "grid_template_areas": null,
      "grid_template_columns": null,
      "grid_template_rows": null,
      "height": null,
      "justify_content": null,
      "justify_items": null,
      "left": null,
      "margin": null,
      "max_height": null,
      "max_width": null,
      "min_height": null,
      "min_width": null,
      "object_fit": null,
      "object_position": null,
      "order": null,
      "overflow": null,
      "overflow_x": null,
      "overflow_y": null,
      "padding": null,
      "right": null,
      "top": null,
      "visibility": null,
      "width": null
     }
    },
    "5a4b61c56c3e4865b9177b445f833e79": {
     "model_module": "@jupyter-widgets/controls",
     "model_name": "DescriptionStyleModel",
     "model_module_version": "1.5.0",
     "state": {
      "_model_module": "@jupyter-widgets/controls",
      "_model_module_version": "1.5.0",
      "_model_name": "DescriptionStyleModel",
      "_view_count": null,
      "_view_module": "@jupyter-widgets/base",
      "_view_module_version": "1.2.0",
      "_view_name": "StyleView",
      "description_width": ""
     }
    },
    "22f25a12288043efa457dbf082374cf7": {
     "model_module": "@jupyter-widgets/base",
     "model_name": "LayoutModel",
     "model_module_version": "1.2.0",
     "state": {
      "_model_module": "@jupyter-widgets/base",
      "_model_module_version": "1.2.0",
      "_model_name": "LayoutModel",
      "_view_count": null,
      "_view_module": "@jupyter-widgets/base",
      "_view_module_version": "1.2.0",
      "_view_name": "LayoutView",
      "align_content": null,
      "align_items": null,
      "align_self": null,
      "border": null,
      "bottom": null,
      "display": null,
      "flex": null,
      "flex_flow": null,
      "grid_area": null,
      "grid_auto_columns": null,
      "grid_auto_flow": null,
      "grid_auto_rows": null,
      "grid_column": null,
      "grid_gap": null,
      "grid_row": null,
      "grid_template_areas": null,
      "grid_template_columns": null,
      "grid_template_rows": null,
      "height": null,
      "justify_content": null,
      "justify_items": null,
      "left": null,
      "margin": null,
      "max_height": null,
      "max_width": null,
      "min_height": null,
      "min_width": null,
      "object_fit": null,
      "object_position": null,
      "order": null,
      "overflow": null,
      "overflow_x": null,
      "overflow_y": null,
      "padding": null,
      "right": null,
      "top": null,
      "visibility": null,
      "width": null
     }
    },
    "8d2430494e684496a5c018e4d273c6c2": {
     "model_module": "@jupyter-widgets/controls",
     "model_name": "ProgressStyleModel",
     "model_module_version": "1.5.0",
     "state": {
      "_model_module": "@jupyter-widgets/controls",
      "_model_module_version": "1.5.0",
      "_model_name": "ProgressStyleModel",
      "_view_count": null,
      "_view_module": "@jupyter-widgets/base",
      "_view_module_version": "1.2.0",
      "_view_name": "StyleView",
      "bar_color": null,
      "description_width": ""
     }
    },
    "5f92a9f50ec3410bbabc689fb32fd83d": {
     "model_module": "@jupyter-widgets/base",
     "model_name": "LayoutModel",
     "model_module_version": "1.2.0",
     "state": {
      "_model_module": "@jupyter-widgets/base",
      "_model_module_version": "1.2.0",
      "_model_name": "LayoutModel",
      "_view_count": null,
      "_view_module": "@jupyter-widgets/base",
      "_view_module_version": "1.2.0",
      "_view_name": "LayoutView",
      "align_content": null,
      "align_items": null,
      "align_self": null,
      "border": null,
      "bottom": null,
      "display": null,
      "flex": null,
      "flex_flow": null,
      "grid_area": null,
      "grid_auto_columns": null,
      "grid_auto_flow": null,
      "grid_auto_rows": null,
      "grid_column": null,
      "grid_gap": null,
      "grid_row": null,
      "grid_template_areas": null,
      "grid_template_columns": null,
      "grid_template_rows": null,
      "height": null,
      "justify_content": null,
      "justify_items": null,
      "left": null,
      "margin": null,
      "max_height": null,
      "max_width": null,
      "min_height": null,
      "min_width": null,
      "object_fit": null,
      "object_position": null,
      "order": null,
      "overflow": null,
      "overflow_x": null,
      "overflow_y": null,
      "padding": null,
      "right": null,
      "top": null,
      "visibility": null,
      "width": null
     }
    },
    "16a31bb0a6e541b28e487ae19d436f3d": {
     "model_module": "@jupyter-widgets/controls",
     "model_name": "DescriptionStyleModel",
     "model_module_version": "1.5.0",
     "state": {
      "_model_module": "@jupyter-widgets/controls",
      "_model_module_version": "1.5.0",
      "_model_name": "DescriptionStyleModel",
      "_view_count": null,
      "_view_module": "@jupyter-widgets/base",
      "_view_module_version": "1.2.0",
      "_view_name": "StyleView",
      "description_width": ""
     }
    },
    "cc742bb6f9324b8b846d964c0ee9e8b6": {
     "model_module": "@jupyter-widgets/controls",
     "model_name": "HBoxModel",
     "model_module_version": "1.5.0",
     "state": {
      "_dom_classes": [],
      "_model_module": "@jupyter-widgets/controls",
      "_model_module_version": "1.5.0",
      "_model_name": "HBoxModel",
      "_view_count": null,
      "_view_module": "@jupyter-widgets/controls",
      "_view_module_version": "1.5.0",
      "_view_name": "HBoxView",
      "box_style": "",
      "children": [
       "IPY_MODEL_d3ecdb0f641d440b96fe389de7cd0bcb",
       "IPY_MODEL_f6b70087da0345d6b9aa7a325b7eeb85",
       "IPY_MODEL_ea1747ec705f43aca937919ddb3d4dc5"
      ],
      "layout": "IPY_MODEL_97474ddbab3f4d2ea8778b346a26912b"
     }
    },
    "d3ecdb0f641d440b96fe389de7cd0bcb": {
     "model_module": "@jupyter-widgets/controls",
     "model_name": "HTMLModel",
     "model_module_version": "1.5.0",
     "state": {
      "_dom_classes": [],
      "_model_module": "@jupyter-widgets/controls",
      "_model_module_version": "1.5.0",
      "_model_name": "HTMLModel",
      "_view_count": null,
      "_view_module": "@jupyter-widgets/controls",
      "_view_module_version": "1.5.0",
      "_view_name": "HTMLView",
      "description": "",
      "description_tooltip": null,
      "layout": "IPY_MODEL_f1f62c70569f48618a3ba5c2803a7e24",
      "placeholder": "​",
      "style": "IPY_MODEL_95b4e4614bff45e2a5268c658f61fd25",
      "value": "Downloading: 100%"
     }
    },
    "f6b70087da0345d6b9aa7a325b7eeb85": {
     "model_module": "@jupyter-widgets/controls",
     "model_name": "FloatProgressModel",
     "model_module_version": "1.5.0",
     "state": {
      "_dom_classes": [],
      "_model_module": "@jupyter-widgets/controls",
      "_model_module_version": "1.5.0",
      "_model_name": "FloatProgressModel",
      "_view_count": null,
      "_view_module": "@jupyter-widgets/controls",
      "_view_module_version": "1.5.0",
      "_view_name": "ProgressView",
      "bar_style": "success",
      "description": "",
      "description_tooltip": null,
      "layout": "IPY_MODEL_4e309d410ece4a73925b3f2c5862db97",
      "max": 251003,
      "min": 0,
      "orientation": "horizontal",
      "style": "IPY_MODEL_8bf08228cb024254b70334c4d2e6d69f",
      "value": 251003
     }
    },
    "ea1747ec705f43aca937919ddb3d4dc5": {
     "model_module": "@jupyter-widgets/controls",
     "model_name": "HTMLModel",
     "model_module_version": "1.5.0",
     "state": {
      "_dom_classes": [],
      "_model_module": "@jupyter-widgets/controls",
      "_model_module_version": "1.5.0",
      "_model_name": "HTMLModel",
      "_view_count": null,
      "_view_module": "@jupyter-widgets/controls",
      "_view_module_version": "1.5.0",
      "_view_name": "HTMLView",
      "description": "",
      "description_tooltip": null,
      "layout": "IPY_MODEL_a6b407749ca2416c875cf4336594b15a",
      "placeholder": "​",
      "style": "IPY_MODEL_ab52bc60afe446b79c3bb5cf535befc2",
      "value": " 245k/245k [00:00&lt;00:00, 5.10MB/s]"
     }
    },
    "97474ddbab3f4d2ea8778b346a26912b": {
     "model_module": "@jupyter-widgets/base",
     "model_name": "LayoutModel",
     "model_module_version": "1.2.0",
     "state": {
      "_model_module": "@jupyter-widgets/base",
      "_model_module_version": "1.2.0",
      "_model_name": "LayoutModel",
      "_view_count": null,
      "_view_module": "@jupyter-widgets/base",
      "_view_module_version": "1.2.0",
      "_view_name": "LayoutView",
      "align_content": null,
      "align_items": null,
      "align_self": null,
      "border": null,
      "bottom": null,
      "display": null,
      "flex": null,
      "flex_flow": null,
      "grid_area": null,
      "grid_auto_columns": null,
      "grid_auto_flow": null,
      "grid_auto_rows": null,
      "grid_column": null,
      "grid_gap": null,
      "grid_row": null,
      "grid_template_areas": null,
      "grid_template_columns": null,
      "grid_template_rows": null,
      "height": null,
      "justify_content": null,
      "justify_items": null,
      "left": null,
      "margin": null,
      "max_height": null,
      "max_width": null,
      "min_height": null,
      "min_width": null,
      "object_fit": null,
      "object_position": null,
      "order": null,
      "overflow": null,
      "overflow_x": null,
      "overflow_y": null,
      "padding": null,
      "right": null,
      "top": null,
      "visibility": null,
      "width": null
     }
    },
    "f1f62c70569f48618a3ba5c2803a7e24": {
     "model_module": "@jupyter-widgets/base",
     "model_name": "LayoutModel",
     "model_module_version": "1.2.0",
     "state": {
      "_model_module": "@jupyter-widgets/base",
      "_model_module_version": "1.2.0",
      "_model_name": "LayoutModel",
      "_view_count": null,
      "_view_module": "@jupyter-widgets/base",
      "_view_module_version": "1.2.0",
      "_view_name": "LayoutView",
      "align_content": null,
      "align_items": null,
      "align_self": null,
      "border": null,
      "bottom": null,
      "display": null,
      "flex": null,
      "flex_flow": null,
      "grid_area": null,
      "grid_auto_columns": null,
      "grid_auto_flow": null,
      "grid_auto_rows": null,
      "grid_column": null,
      "grid_gap": null,
      "grid_row": null,
      "grid_template_areas": null,
      "grid_template_columns": null,
      "grid_template_rows": null,
      "height": null,
      "justify_content": null,
      "justify_items": null,
      "left": null,
      "margin": null,
      "max_height": null,
      "max_width": null,
      "min_height": null,
      "min_width": null,
      "object_fit": null,
      "object_position": null,
      "order": null,
      "overflow": null,
      "overflow_x": null,
      "overflow_y": null,
      "padding": null,
      "right": null,
      "top": null,
      "visibility": null,
      "width": null
     }
    },
    "95b4e4614bff45e2a5268c658f61fd25": {
     "model_module": "@jupyter-widgets/controls",
     "model_name": "DescriptionStyleModel",
     "model_module_version": "1.5.0",
     "state": {
      "_model_module": "@jupyter-widgets/controls",
      "_model_module_version": "1.5.0",
      "_model_name": "DescriptionStyleModel",
      "_view_count": null,
      "_view_module": "@jupyter-widgets/base",
      "_view_module_version": "1.2.0",
      "_view_name": "StyleView",
      "description_width": ""
     }
    },
    "4e309d410ece4a73925b3f2c5862db97": {
     "model_module": "@jupyter-widgets/base",
     "model_name": "LayoutModel",
     "model_module_version": "1.2.0",
     "state": {
      "_model_module": "@jupyter-widgets/base",
      "_model_module_version": "1.2.0",
      "_model_name": "LayoutModel",
      "_view_count": null,
      "_view_module": "@jupyter-widgets/base",
      "_view_module_version": "1.2.0",
      "_view_name": "LayoutView",
      "align_content": null,
      "align_items": null,
      "align_self": null,
      "border": null,
      "bottom": null,
      "display": null,
      "flex": null,
      "flex_flow": null,
      "grid_area": null,
      "grid_auto_columns": null,
      "grid_auto_flow": null,
      "grid_auto_rows": null,
      "grid_column": null,
      "grid_gap": null,
      "grid_row": null,
      "grid_template_areas": null,
      "grid_template_columns": null,
      "grid_template_rows": null,
      "height": null,
      "justify_content": null,
      "justify_items": null,
      "left": null,
      "margin": null,
      "max_height": null,
      "max_width": null,
      "min_height": null,
      "min_width": null,
      "object_fit": null,
      "object_position": null,
      "order": null,
      "overflow": null,
      "overflow_x": null,
      "overflow_y": null,
      "padding": null,
      "right": null,
      "top": null,
      "visibility": null,
      "width": null
     }
    },
    "8bf08228cb024254b70334c4d2e6d69f": {
     "model_module": "@jupyter-widgets/controls",
     "model_name": "ProgressStyleModel",
     "model_module_version": "1.5.0",
     "state": {
      "_model_module": "@jupyter-widgets/controls",
      "_model_module_version": "1.5.0",
      "_model_name": "ProgressStyleModel",
      "_view_count": null,
      "_view_module": "@jupyter-widgets/base",
      "_view_module_version": "1.2.0",
      "_view_name": "StyleView",
      "bar_color": null,
      "description_width": ""
     }
    },
    "a6b407749ca2416c875cf4336594b15a": {
     "model_module": "@jupyter-widgets/base",
     "model_name": "LayoutModel",
     "model_module_version": "1.2.0",
     "state": {
      "_model_module": "@jupyter-widgets/base",
      "_model_module_version": "1.2.0",
      "_model_name": "LayoutModel",
      "_view_count": null,
      "_view_module": "@jupyter-widgets/base",
      "_view_module_version": "1.2.0",
      "_view_name": "LayoutView",
      "align_content": null,
      "align_items": null,
      "align_self": null,
      "border": null,
      "bottom": null,
      "display": null,
      "flex": null,
      "flex_flow": null,
      "grid_area": null,
      "grid_auto_columns": null,
      "grid_auto_flow": null,
      "grid_auto_rows": null,
      "grid_column": null,
      "grid_gap": null,
      "grid_row": null,
      "grid_template_areas": null,
      "grid_template_columns": null,
      "grid_template_rows": null,
      "height": null,
      "justify_content": null,
      "justify_items": null,
      "left": null,
      "margin": null,
      "max_height": null,
      "max_width": null,
      "min_height": null,
      "min_width": null,
      "object_fit": null,
      "object_position": null,
      "order": null,
      "overflow": null,
      "overflow_x": null,
      "overflow_y": null,
      "padding": null,
      "right": null,
      "top": null,
      "visibility": null,
      "width": null
     }
    },
    "ab52bc60afe446b79c3bb5cf535befc2": {
     "model_module": "@jupyter-widgets/controls",
     "model_name": "DescriptionStyleModel",
     "model_module_version": "1.5.0",
     "state": {
      "_model_module": "@jupyter-widgets/controls",
      "_model_module_version": "1.5.0",
      "_model_name": "DescriptionStyleModel",
      "_view_count": null,
      "_view_module": "@jupyter-widgets/base",
      "_view_module_version": "1.2.0",
      "_view_name": "StyleView",
      "description_width": ""
     }
    },
    "9f6a9b6955bf4ba1a76eb517f769f47a": {
     "model_module": "@jupyter-widgets/controls",
     "model_name": "HBoxModel",
     "model_module_version": "1.5.0",
     "state": {
      "_dom_classes": [],
      "_model_module": "@jupyter-widgets/controls",
      "_model_module_version": "1.5.0",
      "_model_name": "HBoxModel",
      "_view_count": null,
      "_view_module": "@jupyter-widgets/controls",
      "_view_module_version": "1.5.0",
      "_view_name": "HBoxView",
      "box_style": "",
      "children": [
       "IPY_MODEL_6b46b9ce9a874714b0eeb974cebe359b",
       "IPY_MODEL_014e1cecdc214fa3a8a2d8ae5ad75c94",
       "IPY_MODEL_6094bc51921241b18fef9e13250898d9"
      ],
      "layout": "IPY_MODEL_c43ec7c349c7421faebe4956a8162db7"
     }
    },
    "6b46b9ce9a874714b0eeb974cebe359b": {
     "model_module": "@jupyter-widgets/controls",
     "model_name": "HTMLModel",
     "model_module_version": "1.5.0",
     "state": {
      "_dom_classes": [],
      "_model_module": "@jupyter-widgets/controls",
      "_model_module_version": "1.5.0",
      "_model_name": "HTMLModel",
      "_view_count": null,
      "_view_module": "@jupyter-widgets/controls",
      "_view_module_version": "1.5.0",
      "_view_name": "HTMLView",
      "description": "",
      "description_tooltip": null,
      "layout": "IPY_MODEL_fb2796a8dc2944b6aabaa06a9f7a1a85",
      "placeholder": "​",
      "style": "IPY_MODEL_cb3067f3285442a0a89af4fada91c42f",
      "value": "Downloading: 100%"
     }
    },
    "014e1cecdc214fa3a8a2d8ae5ad75c94": {
     "model_module": "@jupyter-widgets/controls",
     "model_name": "FloatProgressModel",
     "model_module_version": "1.5.0",
     "state": {
      "_dom_classes": [],
      "_model_module": "@jupyter-widgets/controls",
      "_model_module_version": "1.5.0",
      "_model_name": "FloatProgressModel",
      "_view_count": null,
      "_view_module": "@jupyter-widgets/controls",
      "_view_module_version": "1.5.0",
      "_view_name": "ProgressView",
      "bar_style": "success",
      "description": "",
      "description_tooltip": null,
      "layout": "IPY_MODEL_5768ca5baccf47558946f6c1c73b8f41",
      "max": 445018508,
      "min": 0,
      "orientation": "horizontal",
      "style": "IPY_MODEL_872990aec7dc4f9c883a8fc62234e566",
      "value": 445018508
     }
    },
    "6094bc51921241b18fef9e13250898d9": {
     "model_module": "@jupyter-widgets/controls",
     "model_name": "HTMLModel",
     "model_module_version": "1.5.0",
     "state": {
      "_dom_classes": [],
      "_model_module": "@jupyter-widgets/controls",
      "_model_module_version": "1.5.0",
      "_model_name": "HTMLModel",
      "_view_count": null,
      "_view_module": "@jupyter-widgets/controls",
      "_view_module_version": "1.5.0",
      "_view_name": "HTMLView",
      "description": "",
      "description_tooltip": null,
      "layout": "IPY_MODEL_42b977a883d540c4a5cb9edbf46b0a9b",
      "placeholder": "​",
      "style": "IPY_MODEL_588a2e1d7428463ba55e9ac06c06db22",
      "value": " 424M/424M [00:10&lt;00:00, 44.7MB/s]"
     }
    },
    "c43ec7c349c7421faebe4956a8162db7": {
     "model_module": "@jupyter-widgets/base",
     "model_name": "LayoutModel",
     "model_module_version": "1.2.0",
     "state": {
      "_model_module": "@jupyter-widgets/base",
      "_model_module_version": "1.2.0",
      "_model_name": "LayoutModel",
      "_view_count": null,
      "_view_module": "@jupyter-widgets/base",
      "_view_module_version": "1.2.0",
      "_view_name": "LayoutView",
      "align_content": null,
      "align_items": null,
      "align_self": null,
      "border": null,
      "bottom": null,
      "display": null,
      "flex": null,
      "flex_flow": null,
      "grid_area": null,
      "grid_auto_columns": null,
      "grid_auto_flow": null,
      "grid_auto_rows": null,
      "grid_column": null,
      "grid_gap": null,
      "grid_row": null,
      "grid_template_areas": null,
      "grid_template_columns": null,
      "grid_template_rows": null,
      "height": null,
      "justify_content": null,
      "justify_items": null,
      "left": null,
      "margin": null,
      "max_height": null,
      "max_width": null,
      "min_height": null,
      "min_width": null,
      "object_fit": null,
      "object_position": null,
      "order": null,
      "overflow": null,
      "overflow_x": null,
      "overflow_y": null,
      "padding": null,
      "right": null,
      "top": null,
      "visibility": null,
      "width": null
     }
    },
    "fb2796a8dc2944b6aabaa06a9f7a1a85": {
     "model_module": "@jupyter-widgets/base",
     "model_name": "LayoutModel",
     "model_module_version": "1.2.0",
     "state": {
      "_model_module": "@jupyter-widgets/base",
      "_model_module_version": "1.2.0",
      "_model_name": "LayoutModel",
      "_view_count": null,
      "_view_module": "@jupyter-widgets/base",
      "_view_module_version": "1.2.0",
      "_view_name": "LayoutView",
      "align_content": null,
      "align_items": null,
      "align_self": null,
      "border": null,
      "bottom": null,
      "display": null,
      "flex": null,
      "flex_flow": null,
      "grid_area": null,
      "grid_auto_columns": null,
      "grid_auto_flow": null,
      "grid_auto_rows": null,
      "grid_column": null,
      "grid_gap": null,
      "grid_row": null,
      "grid_template_areas": null,
      "grid_template_columns": null,
      "grid_template_rows": null,
      "height": null,
      "justify_content": null,
      "justify_items": null,
      "left": null,
      "margin": null,
      "max_height": null,
      "max_width": null,
      "min_height": null,
      "min_width": null,
      "object_fit": null,
      "object_position": null,
      "order": null,
      "overflow": null,
      "overflow_x": null,
      "overflow_y": null,
      "padding": null,
      "right": null,
      "top": null,
      "visibility": null,
      "width": null
     }
    },
    "cb3067f3285442a0a89af4fada91c42f": {
     "model_module": "@jupyter-widgets/controls",
     "model_name": "DescriptionStyleModel",
     "model_module_version": "1.5.0",
     "state": {
      "_model_module": "@jupyter-widgets/controls",
      "_model_module_version": "1.5.0",
      "_model_name": "DescriptionStyleModel",
      "_view_count": null,
      "_view_module": "@jupyter-widgets/base",
      "_view_module_version": "1.2.0",
      "_view_name": "StyleView",
      "description_width": ""
     }
    },
    "5768ca5baccf47558946f6c1c73b8f41": {
     "model_module": "@jupyter-widgets/base",
     "model_name": "LayoutModel",
     "model_module_version": "1.2.0",
     "state": {
      "_model_module": "@jupyter-widgets/base",
      "_model_module_version": "1.2.0",
      "_model_name": "LayoutModel",
      "_view_count": null,
      "_view_module": "@jupyter-widgets/base",
      "_view_module_version": "1.2.0",
      "_view_name": "LayoutView",
      "align_content": null,
      "align_items": null,
      "align_self": null,
      "border": null,
      "bottom": null,
      "display": null,
      "flex": null,
      "flex_flow": null,
      "grid_area": null,
      "grid_auto_columns": null,
      "grid_auto_flow": null,
      "grid_auto_rows": null,
      "grid_column": null,
      "grid_gap": null,
      "grid_row": null,
      "grid_template_areas": null,
      "grid_template_columns": null,
      "grid_template_rows": null,
      "height": null,
      "justify_content": null,
      "justify_items": null,
      "left": null,
      "margin": null,
      "max_height": null,
      "max_width": null,
      "min_height": null,
      "min_width": null,
      "object_fit": null,
      "object_position": null,
      "order": null,
      "overflow": null,
      "overflow_x": null,
      "overflow_y": null,
      "padding": null,
      "right": null,
      "top": null,
      "visibility": null,
      "width": null
     }
    },
    "872990aec7dc4f9c883a8fc62234e566": {
     "model_module": "@jupyter-widgets/controls",
     "model_name": "ProgressStyleModel",
     "model_module_version": "1.5.0",
     "state": {
      "_model_module": "@jupyter-widgets/controls",
      "_model_module_version": "1.5.0",
      "_model_name": "ProgressStyleModel",
      "_view_count": null,
      "_view_module": "@jupyter-widgets/base",
      "_view_module_version": "1.2.0",
      "_view_name": "StyleView",
      "bar_color": null,
      "description_width": ""
     }
    },
    "42b977a883d540c4a5cb9edbf46b0a9b": {
     "model_module": "@jupyter-widgets/base",
     "model_name": "LayoutModel",
     "model_module_version": "1.2.0",
     "state": {
      "_model_module": "@jupyter-widgets/base",
      "_model_module_version": "1.2.0",
      "_model_name": "LayoutModel",
      "_view_count": null,
      "_view_module": "@jupyter-widgets/base",
      "_view_module_version": "1.2.0",
      "_view_name": "LayoutView",
      "align_content": null,
      "align_items": null,
      "align_self": null,
      "border": null,
      "bottom": null,
      "display": null,
      "flex": null,
      "flex_flow": null,
      "grid_area": null,
      "grid_auto_columns": null,
      "grid_auto_flow": null,
      "grid_auto_rows": null,
      "grid_column": null,
      "grid_gap": null,
      "grid_row": null,
      "grid_template_areas": null,
      "grid_template_columns": null,
      "grid_template_rows": null,
      "height": null,
      "justify_content": null,
      "justify_items": null,
      "left": null,
      "margin": null,
      "max_height": null,
      "max_width": null,
      "min_height": null,
      "min_width": null,
      "object_fit": null,
      "object_position": null,
      "order": null,
      "overflow": null,
      "overflow_x": null,
      "overflow_y": null,
      "padding": null,
      "right": null,
      "top": null,
      "visibility": null,
      "width": null
     }
    },
    "588a2e1d7428463ba55e9ac06c06db22": {
     "model_module": "@jupyter-widgets/controls",
     "model_name": "DescriptionStyleModel",
     "model_module_version": "1.5.0",
     "state": {
      "_model_module": "@jupyter-widgets/controls",
      "_model_module_version": "1.5.0",
      "_model_name": "DescriptionStyleModel",
      "_view_count": null,
      "_view_module": "@jupyter-widgets/base",
      "_view_module_version": "1.2.0",
      "_view_name": "StyleView",
      "description_width": ""
     }
    }
   }
  }
 },
 "cells": [
  {
   "cell_type": "code",
   "execution_count": 1,
   "metadata": {
    "id": "GBvE1Om5o2iF",
    "executionInfo": {
     "status": "ok",
     "timestamp": 1657280484397,
     "user_tz": -180,
     "elapsed": 23,
     "user": {
      "displayName": "Osman Karabulut",
      "userId": "00375047694445380885"
     }
    },
    "pycharm": {
     "name": "#%%\n"
    }
   },
   "outputs": [],
   "source": [
    "import numpy as np\n",
    "import pandas as pd\n"
   ]
  },
  {
   "cell_type": "code",
   "source": [
    "import os\n",
    "os.chdir(\"/content/drive/MyDrive/Hepsiburada Proje\")"
   ],
   "metadata": {
    "id": "EH9_YgXbp0RB",
    "executionInfo": {
     "status": "ok",
     "timestamp": 1657280484398,
     "user_tz": -180,
     "elapsed": 22,
     "user": {
      "displayName": "Osman Karabulut",
      "userId": "00375047694445380885"
     }
    },
    "pycharm": {
     "name": "#%%\n"
    }
   },
   "execution_count": 2,
   "outputs": []
  },
  {
   "cell_type": "code",
   "source": [
    "import torch\n",
    "if torch.cuda.is_available():  \n",
    "    device = torch.device(\"cuda\")\n",
    "    print('We will use the GPU:', torch.cuda.get_device_name(0))\n",
    "    \n",
    "else:\n",
    "    print('No GPU available, using the CPU instead.')\n",
    "    device = torch.device(\"cpu\")"
   ],
   "metadata": {
    "colab": {
     "base_uri": "https://localhost:8080/"
    },
    "id": "rl3jdiUkp_dy",
    "executionInfo": {
     "status": "ok",
     "timestamp": 1657280487726,
     "user_tz": -180,
     "elapsed": 3349,
     "user": {
      "displayName": "Osman Karabulut",
      "userId": "00375047694445380885"
     }
    },
    "outputId": "f5db1b3f-cdb6-4fb2-dd28-1787366cd83a",
    "pycharm": {
     "name": "#%%\n"
    }
   },
   "execution_count": 3,
   "outputs": [
    {
     "output_type": "stream",
     "name": "stdout",
     "text": [
      "We will use the GPU: Tesla T4\n"
     ]
    }
   ]
  },
  {
   "cell_type": "code",
   "source": [
    "df = pd.read_csv(\"hepsiburada.csv\")"
   ],
   "metadata": {
    "id": "nvlWF5BPqFsP",
    "executionInfo": {
     "status": "ok",
     "timestamp": 1657280489542,
     "user_tz": -180,
     "elapsed": 1821,
     "user": {
      "displayName": "Osman Karabulut",
      "userId": "00375047694445380885"
     }
    },
    "pycharm": {
     "name": "#%%\n"
    }
   },
   "execution_count": 4,
   "outputs": []
  },
  {
   "cell_type": "code",
   "source": [
    "df.head()"
   ],
   "metadata": {
    "colab": {
     "base_uri": "https://localhost:8080/",
     "height": 206
    },
    "id": "_zoPp5exqgLV",
    "executionInfo": {
     "status": "ok",
     "timestamp": 1657280489542,
     "user_tz": -180,
     "elapsed": 45,
     "user": {
      "displayName": "Osman Karabulut",
      "userId": "00375047694445380885"
     }
    },
    "outputId": "1477f9bd-13ca-483b-f0d7-750993a99d45",
    "pycharm": {
     "name": "#%%\n"
    }
   },
   "execution_count": 5,
   "outputs": [
    {
     "output_type": "execute_result",
     "data": {
      "text/plain": [
       "   Rating                                             Review\n",
       "0       1                            3 yıldır tık demedi. :)\n",
       "1       1                      3 yıldır kullanıyorum müthiş \n",
       "2       1  Ürün bugün elime geçti çok fazla inceleme fırs...\n",
       "3       1  Almaya karar verdim. Hemencecik geldi. Keyifle...\n",
       "4       1  Günlük kullanımınızı çok çok iyi karsılıyor kı..."
      ],
      "text/html": [
       "\n",
       "  <div id=\"df-f5f993c5-6f79-4c46-a01a-6a3bfd44040e\">\n",
       "    <div class=\"colab-df-container\">\n",
       "      <div>\n",
       "<style scoped>\n",
       "    .dataframe tbody tr th:only-of-type {\n",
       "        vertical-align: middle;\n",
       "    }\n",
       "\n",
       "    .dataframe tbody tr th {\n",
       "        vertical-align: top;\n",
       "    }\n",
       "\n",
       "    .dataframe thead th {\n",
       "        text-align: right;\n",
       "    }\n",
       "</style>\n",
       "<table border=\"1\" class=\"dataframe\">\n",
       "  <thead>\n",
       "    <tr style=\"text-align: right;\">\n",
       "      <th></th>\n",
       "      <th>Rating</th>\n",
       "      <th>Review</th>\n",
       "    </tr>\n",
       "  </thead>\n",
       "  <tbody>\n",
       "    <tr>\n",
       "      <th>0</th>\n",
       "      <td>1</td>\n",
       "      <td>3 yıldır tık demedi. :)</td>\n",
       "    </tr>\n",
       "    <tr>\n",
       "      <th>1</th>\n",
       "      <td>1</td>\n",
       "      <td>3 yıldır kullanıyorum müthiş</td>\n",
       "    </tr>\n",
       "    <tr>\n",
       "      <th>2</th>\n",
       "      <td>1</td>\n",
       "      <td>Ürün bugün elime geçti çok fazla inceleme fırs...</td>\n",
       "    </tr>\n",
       "    <tr>\n",
       "      <th>3</th>\n",
       "      <td>1</td>\n",
       "      <td>Almaya karar verdim. Hemencecik geldi. Keyifle...</td>\n",
       "    </tr>\n",
       "    <tr>\n",
       "      <th>4</th>\n",
       "      <td>1</td>\n",
       "      <td>Günlük kullanımınızı çok çok iyi karsılıyor kı...</td>\n",
       "    </tr>\n",
       "  </tbody>\n",
       "</table>\n",
       "</div>\n",
       "      <button class=\"colab-df-convert\" onclick=\"convertToInteractive('df-f5f993c5-6f79-4c46-a01a-6a3bfd44040e')\"\n",
       "              title=\"Convert this dataframe to an interactive table.\"\n",
       "              style=\"display:none;\">\n",
       "        \n",
       "  <svg xmlns=\"http://www.w3.org/2000/svg\" height=\"24px\"viewBox=\"0 0 24 24\"\n",
       "       width=\"24px\">\n",
       "    <path d=\"M0 0h24v24H0V0z\" fill=\"none\"/>\n",
       "    <path d=\"M18.56 5.44l.94 2.06.94-2.06 2.06-.94-2.06-.94-.94-2.06-.94 2.06-2.06.94zm-11 1L8.5 8.5l.94-2.06 2.06-.94-2.06-.94L8.5 2.5l-.94 2.06-2.06.94zm10 10l.94 2.06.94-2.06 2.06-.94-2.06-.94-.94-2.06-.94 2.06-2.06.94z\"/><path d=\"M17.41 7.96l-1.37-1.37c-.4-.4-.92-.59-1.43-.59-.52 0-1.04.2-1.43.59L10.3 9.45l-7.72 7.72c-.78.78-.78 2.05 0 2.83L4 21.41c.39.39.9.59 1.41.59.51 0 1.02-.2 1.41-.59l7.78-7.78 2.81-2.81c.8-.78.8-2.07 0-2.86zM5.41 20L4 18.59l7.72-7.72 1.47 1.35L5.41 20z\"/>\n",
       "  </svg>\n",
       "      </button>\n",
       "      \n",
       "  <style>\n",
       "    .colab-df-container {\n",
       "      display:flex;\n",
       "      flex-wrap:wrap;\n",
       "      gap: 12px;\n",
       "    }\n",
       "\n",
       "    .colab-df-convert {\n",
       "      background-color: #E8F0FE;\n",
       "      border: none;\n",
       "      border-radius: 50%;\n",
       "      cursor: pointer;\n",
       "      display: none;\n",
       "      fill: #1967D2;\n",
       "      height: 32px;\n",
       "      padding: 0 0 0 0;\n",
       "      width: 32px;\n",
       "    }\n",
       "\n",
       "    .colab-df-convert:hover {\n",
       "      background-color: #E2EBFA;\n",
       "      box-shadow: 0px 1px 2px rgba(60, 64, 67, 0.3), 0px 1px 3px 1px rgba(60, 64, 67, 0.15);\n",
       "      fill: #174EA6;\n",
       "    }\n",
       "\n",
       "    [theme=dark] .colab-df-convert {\n",
       "      background-color: #3B4455;\n",
       "      fill: #D2E3FC;\n",
       "    }\n",
       "\n",
       "    [theme=dark] .colab-df-convert:hover {\n",
       "      background-color: #434B5C;\n",
       "      box-shadow: 0px 1px 3px 1px rgba(0, 0, 0, 0.15);\n",
       "      filter: drop-shadow(0px 1px 2px rgba(0, 0, 0, 0.3));\n",
       "      fill: #FFFFFF;\n",
       "    }\n",
       "  </style>\n",
       "\n",
       "      <script>\n",
       "        const buttonEl =\n",
       "          document.querySelector('#df-f5f993c5-6f79-4c46-a01a-6a3bfd44040e button.colab-df-convert');\n",
       "        buttonEl.style.display =\n",
       "          google.colab.kernel.accessAllowed ? 'block' : 'none';\n",
       "\n",
       "        async function convertToInteractive(key) {\n",
       "          const element = document.querySelector('#df-f5f993c5-6f79-4c46-a01a-6a3bfd44040e');\n",
       "          const dataTable =\n",
       "            await google.colab.kernel.invokeFunction('convertToInteractive',\n",
       "                                                     [key], {});\n",
       "          if (!dataTable) return;\n",
       "\n",
       "          const docLinkHtml = 'Like what you see? Visit the ' +\n",
       "            '<a target=\"_blank\" href=https://colab.research.google.com/notebooks/data_table.ipynb>data table notebook</a>'\n",
       "            + ' to learn more about interactive tables.';\n",
       "          element.innerHTML = '';\n",
       "          dataTable['output_type'] = 'display_data';\n",
       "          await google.colab.output.renderOutput(dataTable, element);\n",
       "          const docLink = document.createElement('div');\n",
       "          docLink.innerHTML = docLinkHtml;\n",
       "          element.appendChild(docLink);\n",
       "        }\n",
       "      </script>\n",
       "    </div>\n",
       "  </div>\n",
       "  "
      ]
     },
     "metadata": {},
     "execution_count": 5
    }
   ]
  },
  {
   "cell_type": "code",
   "source": [
    "df.isnull().sum()"
   ],
   "metadata": {
    "colab": {
     "base_uri": "https://localhost:8080/"
    },
    "id": "4DwJdCyQqcuY",
    "executionInfo": {
     "status": "ok",
     "timestamp": 1657280489543,
     "user_tz": -180,
     "elapsed": 44,
     "user": {
      "displayName": "Osman Karabulut",
      "userId": "00375047694445380885"
     }
    },
    "outputId": "c314a422-4b5e-47cd-d9f0-fad5b4d59c52",
    "pycharm": {
     "name": "#%%\n"
    }
   },
   "execution_count": 6,
   "outputs": [
    {
     "output_type": "execute_result",
     "data": {
      "text/plain": [
       "Rating    0\n",
       "Review    0\n",
       "dtype: int64"
      ]
     },
     "metadata": {},
     "execution_count": 6
    }
   ]
  },
  {
   "cell_type": "code",
   "source": [
    "from sklearn.model_selection import train_test_split\n",
    "X_train, X_test, y_train, y_test =  train_test_split(df.Review,df.Rating,test_size=0.2,random_state=42)\n",
    "\n",
    "df_train = pd.concat([X_train,y_train],axis=1)\n",
    "df_test = pd.concat([X_test,y_test],axis=1)"
   ],
   "metadata": {
    "id": "hE4kNen1qniG",
    "executionInfo": {
     "status": "ok",
     "timestamp": 1657280489543,
     "user_tz": -180,
     "elapsed": 38,
     "user": {
      "displayName": "Osman Karabulut",
      "userId": "00375047694445380885"
     }
    },
    "pycharm": {
     "name": "#%%\n"
    }
   },
   "execution_count": 7,
   "outputs": []
  },
  {
   "cell_type": "code",
   "source": [
    "(len(df_train),len(df_test))"
   ],
   "metadata": {
    "colab": {
     "base_uri": "https://localhost:8080/"
    },
    "id": "-oZMlbYNsKaK",
    "executionInfo": {
     "status": "ok",
     "timestamp": 1657280489544,
     "user_tz": -180,
     "elapsed": 38,
     "user": {
      "displayName": "Osman Karabulut",
      "userId": "00375047694445380885"
     }
    },
    "outputId": "cf7be5be-d655-4575-e041-631727c224cc",
    "pycharm": {
     "name": "#%%\n"
    }
   },
   "execution_count": 8,
   "outputs": [
    {
     "output_type": "execute_result",
     "data": {
      "text/plain": [
       "(194797, 48700)"
      ]
     },
     "metadata": {},
     "execution_count": 8
    }
   ]
  },
  {
   "cell_type": "code",
   "source": [
    "df_train.head()"
   ],
   "metadata": {
    "colab": {
     "base_uri": "https://localhost:8080/",
     "height": 206
    },
    "id": "WNVUo9RhtQZk",
    "executionInfo": {
     "status": "ok",
     "timestamp": 1657280489545,
     "user_tz": -180,
     "elapsed": 37,
     "user": {
      "displayName": "Osman Karabulut",
      "userId": "00375047694445380885"
     }
    },
    "outputId": "8dca5a5b-93b6-4302-9b35-9c0fb076de56",
    "pycharm": {
     "name": "#%%\n"
    }
   },
   "execution_count": 9,
   "outputs": [
    {
     "output_type": "execute_result",
     "data": {
      "text/plain": [
       "                                                   Review  Rating\n",
       "4285    ben bu ürünü uzun süredir kullanıyorum ve memn...       1\n",
       "57139   Ürün 2 gün içinde elime ulaştı,öyle çok ağır d...       1\n",
       "183146  ürünü sürekli hepsiburada.com dan alıyorum. Uy...       1\n",
       "12184                                ürün çok başarılı...       1\n",
       "89052   motorum icin aldim ebat olarak cok guzel cbf 1...       1"
      ],
      "text/html": [
       "\n",
       "  <div id=\"df-65db4ad8-338b-4232-9b7a-938552462fb9\">\n",
       "    <div class=\"colab-df-container\">\n",
       "      <div>\n",
       "<style scoped>\n",
       "    .dataframe tbody tr th:only-of-type {\n",
       "        vertical-align: middle;\n",
       "    }\n",
       "\n",
       "    .dataframe tbody tr th {\n",
       "        vertical-align: top;\n",
       "    }\n",
       "\n",
       "    .dataframe thead th {\n",
       "        text-align: right;\n",
       "    }\n",
       "</style>\n",
       "<table border=\"1\" class=\"dataframe\">\n",
       "  <thead>\n",
       "    <tr style=\"text-align: right;\">\n",
       "      <th></th>\n",
       "      <th>Review</th>\n",
       "      <th>Rating</th>\n",
       "    </tr>\n",
       "  </thead>\n",
       "  <tbody>\n",
       "    <tr>\n",
       "      <th>4285</th>\n",
       "      <td>ben bu ürünü uzun süredir kullanıyorum ve memn...</td>\n",
       "      <td>1</td>\n",
       "    </tr>\n",
       "    <tr>\n",
       "      <th>57139</th>\n",
       "      <td>Ürün 2 gün içinde elime ulaştı,öyle çok ağır d...</td>\n",
       "      <td>1</td>\n",
       "    </tr>\n",
       "    <tr>\n",
       "      <th>183146</th>\n",
       "      <td>ürünü sürekli hepsiburada.com dan alıyorum. Uy...</td>\n",
       "      <td>1</td>\n",
       "    </tr>\n",
       "    <tr>\n",
       "      <th>12184</th>\n",
       "      <td>ürün çok başarılı...</td>\n",
       "      <td>1</td>\n",
       "    </tr>\n",
       "    <tr>\n",
       "      <th>89052</th>\n",
       "      <td>motorum icin aldim ebat olarak cok guzel cbf 1...</td>\n",
       "      <td>1</td>\n",
       "    </tr>\n",
       "  </tbody>\n",
       "</table>\n",
       "</div>\n",
       "      <button class=\"colab-df-convert\" onclick=\"convertToInteractive('df-65db4ad8-338b-4232-9b7a-938552462fb9')\"\n",
       "              title=\"Convert this dataframe to an interactive table.\"\n",
       "              style=\"display:none;\">\n",
       "        \n",
       "  <svg xmlns=\"http://www.w3.org/2000/svg\" height=\"24px\"viewBox=\"0 0 24 24\"\n",
       "       width=\"24px\">\n",
       "    <path d=\"M0 0h24v24H0V0z\" fill=\"none\"/>\n",
       "    <path d=\"M18.56 5.44l.94 2.06.94-2.06 2.06-.94-2.06-.94-.94-2.06-.94 2.06-2.06.94zm-11 1L8.5 8.5l.94-2.06 2.06-.94-2.06-.94L8.5 2.5l-.94 2.06-2.06.94zm10 10l.94 2.06.94-2.06 2.06-.94-2.06-.94-.94-2.06-.94 2.06-2.06.94z\"/><path d=\"M17.41 7.96l-1.37-1.37c-.4-.4-.92-.59-1.43-.59-.52 0-1.04.2-1.43.59L10.3 9.45l-7.72 7.72c-.78.78-.78 2.05 0 2.83L4 21.41c.39.39.9.59 1.41.59.51 0 1.02-.2 1.41-.59l7.78-7.78 2.81-2.81c.8-.78.8-2.07 0-2.86zM5.41 20L4 18.59l7.72-7.72 1.47 1.35L5.41 20z\"/>\n",
       "  </svg>\n",
       "      </button>\n",
       "      \n",
       "  <style>\n",
       "    .colab-df-container {\n",
       "      display:flex;\n",
       "      flex-wrap:wrap;\n",
       "      gap: 12px;\n",
       "    }\n",
       "\n",
       "    .colab-df-convert {\n",
       "      background-color: #E8F0FE;\n",
       "      border: none;\n",
       "      border-radius: 50%;\n",
       "      cursor: pointer;\n",
       "      display: none;\n",
       "      fill: #1967D2;\n",
       "      height: 32px;\n",
       "      padding: 0 0 0 0;\n",
       "      width: 32px;\n",
       "    }\n",
       "\n",
       "    .colab-df-convert:hover {\n",
       "      background-color: #E2EBFA;\n",
       "      box-shadow: 0px 1px 2px rgba(60, 64, 67, 0.3), 0px 1px 3px 1px rgba(60, 64, 67, 0.15);\n",
       "      fill: #174EA6;\n",
       "    }\n",
       "\n",
       "    [theme=dark] .colab-df-convert {\n",
       "      background-color: #3B4455;\n",
       "      fill: #D2E3FC;\n",
       "    }\n",
       "\n",
       "    [theme=dark] .colab-df-convert:hover {\n",
       "      background-color: #434B5C;\n",
       "      box-shadow: 0px 1px 3px 1px rgba(0, 0, 0, 0.15);\n",
       "      filter: drop-shadow(0px 1px 2px rgba(0, 0, 0, 0.3));\n",
       "      fill: #FFFFFF;\n",
       "    }\n",
       "  </style>\n",
       "\n",
       "      <script>\n",
       "        const buttonEl =\n",
       "          document.querySelector('#df-65db4ad8-338b-4232-9b7a-938552462fb9 button.colab-df-convert');\n",
       "        buttonEl.style.display =\n",
       "          google.colab.kernel.accessAllowed ? 'block' : 'none';\n",
       "\n",
       "        async function convertToInteractive(key) {\n",
       "          const element = document.querySelector('#df-65db4ad8-338b-4232-9b7a-938552462fb9');\n",
       "          const dataTable =\n",
       "            await google.colab.kernel.invokeFunction('convertToInteractive',\n",
       "                                                     [key], {});\n",
       "          if (!dataTable) return;\n",
       "\n",
       "          const docLinkHtml = 'Like what you see? Visit the ' +\n",
       "            '<a target=\"_blank\" href=https://colab.research.google.com/notebooks/data_table.ipynb>data table notebook</a>'\n",
       "            + ' to learn more about interactive tables.';\n",
       "          element.innerHTML = '';\n",
       "          dataTable['output_type'] = 'display_data';\n",
       "          await google.colab.output.renderOutput(dataTable, element);\n",
       "          const docLink = document.createElement('div');\n",
       "          docLink.innerHTML = docLinkHtml;\n",
       "          element.appendChild(docLink);\n",
       "        }\n",
       "      </script>\n",
       "    </div>\n",
       "  </div>\n",
       "  "
      ]
     },
     "metadata": {},
     "execution_count": 9
    }
   ]
  },
  {
   "cell_type": "code",
   "source": [
    "import string\n",
    "import nltk\n",
    "from nltk import word_tokenize\n",
    "from nltk.corpus import stopwords\n",
    "from collections import Counter\n",
    "\n",
    "nltk.download(\"stopwords\")\n",
    "nltk.download('punkt')\n",
    "\n",
    "stop_words=stopwords.words(\"turkish\")\n",
    "stop_words.extend([\"bir\",\"ürün\",\"aldım\",\"ürünü\",\"2\"])\n",
    "\n",
    "exclude = set(string.punctuation)\n",
    "\n",
    "#for positive sentiments\n",
    "df_pos=df_train[df_train[\"Rating\"]==1]\n",
    "\n",
    "#for only unigrams\n",
    "token_list=[]\n",
    "\n",
    "for i,r in df_pos.iterrows():\n",
    "    text=''.join(ch for ch in df_pos[\"Review\"][i] if ch not in exclude and ch != \",\") #remove punctuations from the text in order not to distort frequencies\n",
    "    tokens=word_tokenize(text)\n",
    "    tokens=[tok.lower() for tok in tokens if tok not in stop_words] #remove stopwords from the text in order not to distort frequencies\n",
    "    token_list.extend(tokens)\n",
    "    \n",
    "frequencies=Counter(token_list)\n",
    "frequencies_sorted=sorted(frequencies.items(), key=lambda k: k[1],reverse=True)\n",
    "top_15=dict(frequencies_sorted[0:15])"
   ],
   "metadata": {
    "colab": {
     "base_uri": "https://localhost:8080/"
    },
    "id": "QN3aXQErqxkL",
    "executionInfo": {
     "status": "ok",
     "timestamp": 1657280554418,
     "user_tz": -180,
     "elapsed": 64909,
     "user": {
      "displayName": "Osman Karabulut",
      "userId": "00375047694445380885"
     }
    },
    "outputId": "c4ff3139-f970-4546-c1a1-205219d43e25",
    "pycharm": {
     "name": "#%%\n"
    }
   },
   "execution_count": 10,
   "outputs": [
    {
     "output_type": "stream",
     "name": "stderr",
     "text": [
      "[nltk_data] Downloading package stopwords to /root/nltk_data...\n",
      "[nltk_data]   Unzipping corpora/stopwords.zip.\n",
      "[nltk_data] Downloading package punkt to /root/nltk_data...\n",
      "[nltk_data]   Unzipping tokenizers/punkt.zip.\n"
     ]
    }
   ]
  },
  {
   "cell_type": "code",
   "source": [
    "import matplotlib.pyplot as plt\n",
    "import numpy as np\n",
    "\n",
    "plt.rcdefaults()\n",
    "fig, ax = plt.subplots()\n",
    "\n",
    "# Example data\n",
    "ngram = top_15.keys()\n",
    "y_pos = np.arange(len(ngram))\n",
    "performance = top_15.values()\n",
    "\n",
    "\n",
    "ax.barh(y_pos, performance, align='center')\n",
    "ax.set_yticks(y_pos)\n",
    "ax.set_yticklabels(ngram)\n",
    "ax.invert_yaxis()  # labels read top-to-bottom\n",
    "ax.set_xlabel('Counts')\n",
    "ax.set_title('Top-15 Most Common Unigrams in Positive Comments')\n",
    "\n",
    "plt.show()"
   ],
   "metadata": {
    "colab": {
     "base_uri": "https://localhost:8080/",
     "height": 472
    },
    "id": "c9UZSyAJu3e2",
    "executionInfo": {
     "status": "ok",
     "timestamp": 1657280554419,
     "user_tz": -180,
     "elapsed": 16,
     "user": {
      "displayName": "Osman Karabulut",
      "userId": "00375047694445380885"
     }
    },
    "outputId": "56bb927b-1392-43d4-f7de-7ac79fb99d5e",
    "pycharm": {
     "name": "#%%\n"
    }
   },
   "execution_count": 11,
   "outputs": [
    {
     "output_type": "display_data",
     "data": {
      "text/plain": [
       "<Figure size 640x480 with 1 Axes>"
      ],
      "image/png": "[encoded data removed]"
     },
     "metadata": {}
    }
   ]
  },
  {
   "cell_type": "code",
   "source": [
    "df_neg=df_train[df_train[\"Rating\"]==0]\n",
    "\n",
    "#for only unigrams\n",
    "token_list=[]\n",
    "\n",
    "for i,r in df_neg.iterrows():\n",
    "    text=''.join(ch for ch in df_neg[\"Review\"][i] if ch not in exclude and ch != \",\") #remove punctuations from the text in order not to distort frequencies\n",
    "    tokens=word_tokenize(text)\n",
    "    tokens=[tok.lower() for tok in tokens if tok not in stop_words] #remove stopwords from the text in order not to distort frequencies\n",
    "    token_list.extend(tokens)\n",
    "    \n",
    "frequencies=Counter(token_list)\n",
    "frequencies_sorted=sorted(frequencies.items(), key=lambda k: k[1],reverse=True)\n",
    "top_15=dict(frequencies_sorted[0:15])"
   ],
   "metadata": {
    "id": "EAYejMzxwRrH",
    "executionInfo": {
     "status": "ok",
     "timestamp": 1657280557777,
     "user_tz": -180,
     "elapsed": 3369,
     "user": {
      "displayName": "Osman Karabulut",
      "userId": "00375047694445380885"
     }
    },
    "pycharm": {
     "name": "#%%\n"
    }
   },
   "execution_count": 12,
   "outputs": []
  },
  {
   "cell_type": "code",
   "source": [
    "import matplotlib.pyplot as plt\n",
    "import numpy as np\n",
    "\n",
    "plt.rcdefaults()\n",
    "fig, ax = plt.subplots()\n",
    "\n",
    "# Example data\n",
    "ngram = top_15.keys()\n",
    "y_pos = np.arange(len(ngram))\n",
    "performance = top_15.values()\n",
    "\n",
    "\n",
    "ax.barh(y_pos, performance, align='center')\n",
    "ax.set_yticks(y_pos)\n",
    "ax.set_yticklabels(ngram)\n",
    "ax.invert_yaxis()  # labels read top-to-bottom\n",
    "ax.set_xlabel('Counts')\n",
    "ax.set_title('Top-15 Most Common Unigrams in Negative Comments')\n",
    "\n",
    "plt.show()\n"
   ],
   "metadata": {
    "colab": {
     "base_uri": "https://localhost:8080/",
     "height": 472
    },
    "id": "gxCI1z66wfp8",
    "executionInfo": {
     "status": "ok",
     "timestamp": 1657280557777,
     "user_tz": -180,
     "elapsed": 11,
     "user": {
      "displayName": "Osman Karabulut",
      "userId": "00375047694445380885"
     }
    },
    "outputId": "1a88e649-c91d-4021-9e59-dfdebc26602d",
    "pycharm": {
     "name": "#%%\n"
    }
   },
   "execution_count": 13,
   "outputs": [
    {
     "output_type": "display_data",
     "data": {
      "text/plain": [
       "<Figure size 640x480 with 1 Axes>"
      ],
      "image/png": "[encoded data removed]"
     },
     "metadata": {}
    }
   ]
  },
  {
   "cell_type": "code",
   "source": [
    "from nltk.util import ngrams\n",
    "\n",
    "token_list=[]\n",
    "\n",
    "for i,r in df_pos.iterrows():\n",
    "    text=''.join(ch for ch in df_pos[\"Review\"][i] if ch not in exclude and ch != \"’\") #remove punctuations from the text in order not to distort frequencies\n",
    "    tokens=word_tokenize(text)\n",
    "    tokens=[tok.lower() for tok in tokens if tok not in stop_words] #remove stopwords from the text in order not to distort frequencies \n",
    "    token_list.extend(tokens)\n",
    "    \n",
    " \n",
    "bigrams=list(ngrams(token_list,2))\n",
    "frequencies=Counter(bigrams)\n",
    "frequencies_sorted=sorted(frequencies.items(), key=lambda k: k[1],reverse=True)\n",
    "top_15=dict(frequencies_sorted[0:15])"
   ],
   "metadata": {
    "id": "iF2BgYAhw0Rn",
    "executionInfo": {
     "status": "ok",
     "timestamp": 1657280609245,
     "user_tz": -180,
     "elapsed": 51478,
     "user": {
      "displayName": "Osman Karabulut",
      "userId": "00375047694445380885"
     }
    },
    "pycharm": {
     "name": "#%%\n"
    }
   },
   "execution_count": 14,
   "outputs": []
  },
  {
   "cell_type": "code",
   "source": [
    "plt.rcdefaults()\n",
    "fig, ax = plt.subplots()\n",
    "\n",
    "# Example data\n",
    "ngram = top_15.keys()\n",
    "y_pos = np.arange(len(ngram))\n",
    "performance = top_15.values()\n",
    "\n",
    "\n",
    "ax.barh(y_pos, performance, align='center')\n",
    "ax.set_yticks(y_pos)\n",
    "ax.set_yticklabels(ngram)\n",
    "ax.invert_yaxis()  # labels read top-to-bottom\n",
    "ax.set_xlabel('Counts')\n",
    "ax.set_title('Top-15 Most Common Bigrams in Positive Comments')\n",
    "\n",
    "plt.show()"
   ],
   "metadata": {
    "colab": {
     "base_uri": "https://localhost:8080/",
     "height": 472
    },
    "id": "yjqzclWqw5z1",
    "executionInfo": {
     "status": "ok",
     "timestamp": 1657280609246,
     "user_tz": -180,
     "elapsed": 21,
     "user": {
      "displayName": "Osman Karabulut",
      "userId": "00375047694445380885"
     }
    },
    "outputId": "d5649eac-3740-4a04-ceb6-add946def414",
    "pycharm": {
     "name": "#%%\n"
    }
   },
   "execution_count": 15,
   "outputs": [
    {
     "output_type": "display_data",
     "data": {
      "text/plain": [
       "<Figure size 640x480 with 1 Axes>"
      ],
      "image/png": "[encoded data removed]"
     },
     "metadata": {}
    }
   ]
  },
  {
   "cell_type": "code",
   "source": [
    "token_list=[]\n",
    "\n",
    "for i,r in df_neg.iterrows():\n",
    "    text=''.join(ch for ch in df_neg[\"Review\"][i] if ch not in exclude and ch != \"’\") #remove punctuations from the text in order not to distort frequencies\n",
    "    tokens=word_tokenize(text)\n",
    "    tokens=[tok.lower() for tok in tokens if tok not in stop_words] #remove stopwords from the text in order not to distort frequencies \n",
    "    token_list.extend(tokens)\n",
    "    \n",
    " \n",
    "bigrams=list(ngrams(token_list,2))\n",
    "frequencies=Counter(bigrams)\n",
    "frequencies_sorted=sorted(frequencies.items(), key=lambda k: k[1],reverse=True)\n",
    "top_15=dict(frequencies_sorted[0:15])"
   ],
   "metadata": {
    "id": "eueaV9kTxAFN",
    "executionInfo": {
     "status": "ok",
     "timestamp": 1657280613206,
     "user_tz": -180,
     "elapsed": 3977,
     "user": {
      "displayName": "Osman Karabulut",
      "userId": "00375047694445380885"
     }
    },
    "pycharm": {
     "name": "#%%\n"
    }
   },
   "execution_count": 16,
   "outputs": []
  },
  {
   "cell_type": "code",
   "source": [
    "plt.rcdefaults()\n",
    "fig, ax = plt.subplots()\n",
    "\n",
    "# Example data\n",
    "ngram = top_15.keys()\n",
    "y_pos = np.arange(len(ngram))\n",
    "performance = top_15.values()\n",
    "\n",
    "\n",
    "ax.barh(y_pos, performance, align='center')\n",
    "ax.set_yticks(y_pos)\n",
    "ax.set_yticklabels(ngram)\n",
    "ax.invert_yaxis()  # labels read top-to-bottom\n",
    "ax.set_xlabel('Counts')\n",
    "ax.set_title('Top-15 Most Common Bigrams in Negative Comments')\n",
    "\n",
    "plt.show()"
   ],
   "metadata": {
    "colab": {
     "base_uri": "https://localhost:8080/",
     "height": 472
    },
    "id": "wEd_5ccQxC6U",
    "executionInfo": {
     "status": "ok",
     "timestamp": 1657280613206,
     "user_tz": -180,
     "elapsed": 34,
     "user": {
      "displayName": "Osman Karabulut",
      "userId": "00375047694445380885"
     }
    },
    "outputId": "cd5b09d7-45ae-403f-936d-f1b9ca30b131",
    "pycharm": {
     "name": "#%%\n"
    }
   },
   "execution_count": 17,
   "outputs": [
    {
     "output_type": "display_data",
     "data": {
      "text/plain": [
       "<Figure size 640x480 with 1 Axes>"
      ],
      "image/png": "[encoded data removed]"
     },
     "metadata": {}
    }
   ]
  },
  {
   "cell_type": "code",
   "source": [
    "reviews = df_train.Review.values.tolist()\n",
    "ratings = df_train.Rating.values.tolist()"
   ],
   "metadata": {
    "id": "Q85A1MH5zdEA",
    "executionInfo": {
     "status": "ok",
     "timestamp": 1657280613207,
     "user_tz": -180,
     "elapsed": 33,
     "user": {
      "displayName": "Osman Karabulut",
      "userId": "00375047694445380885"
     }
    },
    "pycharm": {
     "name": "#%%\n"
    }
   },
   "execution_count": 18,
   "outputs": []
  },
  {
   "cell_type": "code",
   "source": [
    "!pip install  transformers\n",
    "\n",
    "from transformers import AutoTokenizer\n",
    "#Load BERT Turkish tokenizer\n",
    "tokenizer = AutoTokenizer.from_pretrained(\"dbmdz/bert-base-turkish-cased\",do_lower_case=True)"
   ],
   "metadata": {
    "colab": {
     "base_uri": "https://localhost:8080/",
     "height": 706,
     "referenced_widgets": [
      "634b275583314630b3bd9ac68f97d256",
      "f19857aa37c34f84a1f43ec38900b23d",
      "b9ad16d7be024b3084ef92bb13305334",
      "b3703aa5c3bd44fda6dc80ae1369684d",
      "2a4bbdd0b6e1400b8ec0309145b49afb",
      "6029d031fe9f44908a3699eefda0ec43",
      "3cadc8f712eb43f58749e311aeb06363",
      "5e176bd63c9244b1828176ba5dd648cb",
      "06898d6234a04f918de518c45cde8c6c",
      "3ea1b6db23d748bc94e007adcd7d14b8",
      "b78f835bf3a741fd870940048a867c82",
      "1c9b1faed2fd48709909bd2a74c892c2",
      "35da4e2968854553b6c59d22f0546521",
      "0348e4386f6549cbbb24b932dc317237",
      "9c8f5262eefe45288f4cd3a070064a01",
      "ef164a29d5f54884ab456b7c4e0d3236",
      "f65e52d9ea4c41cd8f8ab9ead1b2954a",
      "5a4b61c56c3e4865b9177b445f833e79",
      "22f25a12288043efa457dbf082374cf7",
      "8d2430494e684496a5c018e4d273c6c2",
      "5f92a9f50ec3410bbabc689fb32fd83d",
      "16a31bb0a6e541b28e487ae19d436f3d",
      "cc742bb6f9324b8b846d964c0ee9e8b6",
      "d3ecdb0f641d440b96fe389de7cd0bcb",
      "f6b70087da0345d6b9aa7a325b7eeb85",
      "ea1747ec705f43aca937919ddb3d4dc5",
      "97474ddbab3f4d2ea8778b346a26912b",
      "f1f62c70569f48618a3ba5c2803a7e24",
      "95b4e4614bff45e2a5268c658f61fd25",
      "4e309d410ece4a73925b3f2c5862db97",
      "8bf08228cb024254b70334c4d2e6d69f",
      "a6b407749ca2416c875cf4336594b15a",
      "ab52bc60afe446b79c3bb5cf535befc2"
     ]
    },
    "id": "DrjtAJ_9zlLn",
    "executionInfo": {
     "status": "ok",
     "timestamp": 1657280622674,
     "user_tz": -180,
     "elapsed": 9500,
     "user": {
      "displayName": "Osman Karabulut",
      "userId": "00375047694445380885"
     }
    },
    "outputId": "de379f8f-ba75-416b-c38c-4df1362b11c4",
    "pycharm": {
     "name": "#%%\n"
    }
   },
   "execution_count": 19,
   "outputs": [
    {
     "output_type": "stream",
     "name": "stdout",
     "text": [
      "Looking in indexes: https://pypi.org/simple, https://us-python.pkg.dev/colab-wheels/public/simple/\n",
      "Collecting transformers\n",
      "  Downloading transformers-4.20.1-py3-none-any.whl (4.4 MB)\n",
      "\u001B[K     |████████████████████████████████| 4.4 MB 23.6 MB/s \n",
      "\u001B[?25hRequirement already satisfied: importlib-metadata in /usr/local/lib/python3.7/dist-packages (from transformers) (4.11.4)\n",
      "Requirement already satisfied: filelock in /usr/local/lib/python3.7/dist-packages (from transformers) (3.7.1)\n",
      "Requirement already satisfied: regex!=2019.12.17 in /usr/local/lib/python3.7/dist-packages (from transformers) (2022.6.2)\n",
      "Collecting huggingface-hub<1.0,>=0.1.0\n",
      "  Downloading huggingface_hub-0.8.1-py3-none-any.whl (101 kB)\n",
      "\u001B[K     |████████████████████████████████| 101 kB 13.3 MB/s \n",
      "\u001B[?25hRequirement already satisfied: tqdm>=4.27 in /usr/local/lib/python3.7/dist-packages (from transformers) (4.64.0)\n",
      "Collecting tokenizers!=0.11.3,<0.13,>=0.11.1\n",
      "  Downloading tokenizers-0.12.1-cp37-cp37m-manylinux_2_12_x86_64.manylinux2010_x86_64.whl (6.6 MB)\n",
      "\u001B[K     |████████████████████████████████| 6.6 MB 54.9 MB/s \n",
      "\u001B[?25hRequirement already satisfied: packaging>=20.0 in /usr/local/lib/python3.7/dist-packages (from transformers) (21.3)\n",
      "Requirement already satisfied: requests in /usr/local/lib/python3.7/dist-packages (from transformers) (2.23.0)\n",
      "Requirement already satisfied: numpy>=1.17 in /usr/local/lib/python3.7/dist-packages (from transformers) (1.21.6)\n",
      "Collecting pyyaml>=5.1\n",
      "  Downloading PyYAML-6.0-cp37-cp37m-manylinux_2_5_x86_64.manylinux1_x86_64.manylinux_2_12_x86_64.manylinux2010_x86_64.whl (596 kB)\n",
      "\u001B[K     |████████████████████████████████| 596 kB 63.3 MB/s \n",
      "\u001B[?25hRequirement already satisfied: typing-extensions>=3.7.4.3 in /usr/local/lib/python3.7/dist-packages (from huggingface-hub<1.0,>=0.1.0->transformers) (4.1.1)\n",
      "Requirement already satisfied: pyparsing!=3.0.5,>=2.0.2 in /usr/local/lib/python3.7/dist-packages (from packaging>=20.0->transformers) (3.0.9)\n",
      "Requirement already satisfied: zipp>=0.5 in /usr/local/lib/python3.7/dist-packages (from importlib-metadata->transformers) (3.8.0)\n",
      "Requirement already satisfied: chardet<4,>=3.0.2 in /usr/local/lib/python3.7/dist-packages (from requests->transformers) (3.0.4)\n",
      "Requirement already satisfied: idna<3,>=2.5 in /usr/local/lib/python3.7/dist-packages (from requests->transformers) (2.10)\n",
      "Requirement already satisfied: certifi>=2017.4.17 in /usr/local/lib/python3.7/dist-packages (from requests->transformers) (2022.6.15)\n",
      "Requirement already satisfied: urllib3!=1.25.0,!=1.25.1,<1.26,>=1.21.1 in /usr/local/lib/python3.7/dist-packages (from requests->transformers) (1.24.3)\n",
      "Installing collected packages: pyyaml, tokenizers, huggingface-hub, transformers\n",
      "  Attempting uninstall: pyyaml\n",
      "    Found existing installation: PyYAML 3.13\n",
      "    Uninstalling PyYAML-3.13:\n",
      "      Successfully uninstalled PyYAML-3.13\n",
      "Successfully installed huggingface-hub-0.8.1 pyyaml-6.0 tokenizers-0.12.1 transformers-4.20.1\n"
     ]
    },
    {
     "output_type": "display_data",
     "data": {
      "text/plain": [
       "Downloading:   0%|          | 0.00/60.0 [00:00<?, ?B/s]"
      ],
      "application/vnd.jupyter.widget-view+json": {
       "version_major": 2,
       "version_minor": 0,
       "model_id": "634b275583314630b3bd9ac68f97d256"
      }
     },
     "metadata": {}
    },
    {
     "output_type": "display_data",
     "data": {
      "text/plain": [
       "Downloading:   0%|          | 0.00/385 [00:00<?, ?B/s]"
      ],
      "application/vnd.jupyter.widget-view+json": {
       "version_major": 2,
       "version_minor": 0,
       "model_id": "1c9b1faed2fd48709909bd2a74c892c2"
      }
     },
     "metadata": {}
    },
    {
     "output_type": "display_data",
     "data": {
      "text/plain": [
       "Downloading:   0%|          | 0.00/245k [00:00<?, ?B/s]"
      ],
      "application/vnd.jupyter.widget-view+json": {
       "version_major": 2,
       "version_minor": 0,
       "model_id": "cc742bb6f9324b8b846d964c0ee9e8b6"
      }
     },
     "metadata": {}
    }
   ]
  },
  {
   "cell_type": "code",
   "source": [
    "import matplotlib.pyplot as plt\n",
    "def plot_sentence_embeddings_length(text_list, tokenizer):\n",
    "    tokenized_texts = list(map(lambda t: tokenizer.tokenize(t), text_list))\n",
    "    tokenized_texts_len = list(map(lambda t: len(t), tokenized_texts))\n",
    "    fig, ax = plt.subplots(figsize=(8, 5));\n",
    "    ax.hist(tokenized_texts_len, bins=40);\n",
    "    ax.set_xlabel(\"Length of Review Embeddings\");\n",
    "    ax.set_ylabel(\"Number of Review\");\n",
    "    return"
   ],
   "metadata": {
    "id": "VOuyDexOzou2",
    "executionInfo": {
     "status": "ok",
     "timestamp": 1657280622675,
     "user_tz": -180,
     "elapsed": 17,
     "user": {
      "displayName": "Osman Karabulut",
      "userId": "00375047694445380885"
     }
    },
    "pycharm": {
     "name": "#%%\n"
    }
   },
   "execution_count": 20,
   "outputs": []
  },
  {
   "cell_type": "code",
   "source": [
    "plot_sentence_embeddings_length(reviews,tokenizer)"
   ],
   "metadata": {
    "colab": {
     "base_uri": "https://localhost:8080/",
     "height": 502
    },
    "id": "5kj_PU-dz8F9",
    "executionInfo": {
     "status": "ok",
     "timestamp": 1657280691925,
     "user_tz": -180,
     "elapsed": 69264,
     "user": {
      "displayName": "Osman Karabulut",
      "userId": "00375047694445380885"
     }
    },
    "outputId": "51adf420-ce77-49f3-fd9f-d71d45fbdedd",
    "pycharm": {
     "name": "#%%\n"
    }
   },
   "execution_count": 21,
   "outputs": [
    {
     "output_type": "stream",
     "name": "stderr",
     "text": [
      "Token indices sequence length is longer than the specified maximum sequence length for this model (558 > 512). Running this sequence through the model will result in indexing errors\n"
     ]
    },
    {
     "output_type": "display_data",
     "data": {
      "text/plain": [
       "<Figure size 800x500 with 1 Axes>"
      ],
      "image/png": "[encoded data removed]"
     },
     "metadata": {}
    }
   ]
  },
  {
   "cell_type": "code",
   "source": [
    "reviews[0]"
   ],
   "metadata": {
    "colab": {
     "base_uri": "https://localhost:8080/",
     "height": 53
    },
    "id": "41pHNDJk1LfB",
    "executionInfo": {
     "status": "ok",
     "timestamp": 1657280691926,
     "user_tz": -180,
     "elapsed": 18,
     "user": {
      "displayName": "Osman Karabulut",
      "userId": "00375047694445380885"
     }
    },
    "outputId": "0cfa4c63-8d1c-4252-a077-2e9eb13c983c",
    "pycharm": {
     "name": "#%%\n"
    }
   },
   "execution_count": 22,
   "outputs": [
    {
     "output_type": "execute_result",
     "data": {
      "text/plain": [
       "'ben bu ürünü uzun süredir kullanıyorum ve memnunum bu nedenle aynı ürünün daha geniş kapasitelisi olan  bu 8GB olanı aldım tavsiye ederim'"
      ],
      "application/vnd.google.colaboratory.intrinsic+json": {
       "type": "string"
      }
     },
     "metadata": {},
     "execution_count": 22
    }
   ]
  },
  {
   "cell_type": "code",
   "source": [
    "\n",
    "\n",
    "indices=tokenizer.batch_encode_plus(reviews,max_length=150,add_special_tokens=True, return_attention_mask=True,pad_to_max_length=True,truncation=True)\n",
    "\n",
    "input_ids=indices[\"input_ids\"]\n",
    "\n",
    "attention_masks=indices[\"attention_mask\"]\n",
    "print(input_ids[0])\n",
    "print(reviews[0])"
   ],
   "metadata": {
    "colab": {
     "base_uri": "https://localhost:8080/"
    },
    "id": "5PhBtLLcz_R7",
    "outputId": "2aafb390-621a-4495-ea85-f4f63e0c850c",
    "executionInfo": {
     "status": "ok",
     "timestamp": 1657280729855,
     "user_tz": -180,
     "elapsed": 37945,
     "user": {
      "displayName": "Osman Karabulut",
      "userId": "00375047694445380885"
     }
    },
    "pycharm": {
     "name": "#%%\n"
    }
   },
   "execution_count": 23,
   "outputs": [
    {
     "output_type": "stream",
     "name": "stderr",
     "text": [
      "/usr/local/lib/python3.7/dist-packages/transformers/tokenization_utils_base.py:2307: FutureWarning: The `pad_to_max_length` argument is deprecated and will be removed in a future version, use `padding=True` or `padding='longest'` to pad to the longest sequence in the batch, or use `padding='max_length'` to pad to a max length. In this case, you can give a specific length with `max_length` (e.g. `max_length=45`) or leave max_length to None to pad to the maximal input size of the model (e.g. 512 for Bert).\n",
      "  FutureWarning,\n"
     ]
    },
    {
     "output_type": "stream",
     "name": "stdout",
     "text": [
      "[2, 2245, 2048, 16807, 2124, 2956, 31603, 2067, 15843, 1992, 25673, 2048, 4136, 2681, 16807, 2297, 2171, 2403, 2011, 18715, 2462, 2154, 2048, 28, 1034, 1053, 9903, 6713, 5668, 5002, 3, 0, 0, 0, 0, 0, 0, 0, 0, 0, 0, 0, 0, 0, 0, 0, 0, 0, 0, 0, 0, 0, 0, 0, 0, 0, 0, 0, 0, 0, 0, 0, 0, 0, 0, 0, 0, 0, 0, 0, 0, 0, 0, 0, 0, 0, 0, 0, 0, 0, 0, 0, 0, 0, 0, 0, 0, 0, 0, 0, 0, 0, 0, 0, 0, 0, 0, 0, 0, 0, 0, 0, 0, 0, 0, 0, 0, 0, 0, 0, 0, 0, 0, 0, 0, 0, 0, 0, 0, 0, 0, 0, 0, 0, 0, 0, 0, 0, 0, 0, 0, 0, 0, 0, 0, 0, 0, 0, 0, 0, 0, 0, 0, 0, 0, 0, 0, 0, 0, 0]\n",
      "ben bu ürünü uzun süredir kullanıyorum ve memnunum bu nedenle aynı ürünün daha geniş kapasitelisi olan  bu 8GB olanı aldım tavsiye ederim\n"
     ]
    }
   ]
  },
  {
   "cell_type": "code",
   "source": [
    "from sklearn.model_selection import train_test_split\n",
    "\n",
    "# Use 99% for training and 1% for validation.\n",
    "train_inputs, validation_inputs, train_labels, validation_labels = train_test_split(input_ids, ratings, random_state=42, test_size=0.2)\n",
    "# Do the same for the masks.\n",
    "train_masks, validation_masks, _, _ = train_test_split(attention_masks, ratings,\n",
    "                                             random_state=42, test_size=0.2)"
   ],
   "metadata": {
    "id": "p6Frx4eT0QMx",
    "executionInfo": {
     "status": "ok",
     "timestamp": 1657280729856,
     "user_tz": -180,
     "elapsed": 6,
     "user": {
      "displayName": "Osman Karabulut",
      "userId": "00375047694445380885"
     }
    },
    "pycharm": {
     "name": "#%%\n"
    }
   },
   "execution_count": 24,
   "outputs": []
  },
  {
   "cell_type": "code",
   "source": [
    "train_inputs = torch.tensor(train_inputs)\n",
    "validation_inputs = torch.tensor(validation_inputs)\n",
    "train_labels = torch.tensor(train_labels, dtype=torch.long)\n",
    "validation_labels = torch.tensor(validation_labels, dtype=torch.long)\n",
    "train_masks = torch.tensor(train_masks, dtype=torch.long)\n",
    "validation_masks = torch.tensor(validation_masks, dtype=torch.long)"
   ],
   "metadata": {
    "id": "Mm8CYvzI_PfK",
    "executionInfo": {
     "status": "ok",
     "timestamp": 1657280732688,
     "user_tz": -180,
     "elapsed": 1638,
     "user": {
      "displayName": "Osman Karabulut",
      "userId": "00375047694445380885"
     }
    },
    "pycharm": {
     "name": "#%%\n"
    }
   },
   "execution_count": 25,
   "outputs": []
  },
  {
   "cell_type": "code",
   "source": [
    "from torch.utils.data import TensorDataset, DataLoader, RandomSampler, SequentialSampler\n",
    "\n",
    "batch_size = 16\n",
    "\n",
    "# Create the DataLoader for our training set.\n",
    "train_data = TensorDataset(train_inputs, train_masks, train_labels)\n",
    "train_sampler = RandomSampler(train_data)\n",
    "train_dataloader = DataLoader(train_data, sampler=train_sampler, batch_size=batch_size)\n",
    "\n",
    "# Create the DataLoader for our validation set.\n",
    "validation_data = TensorDataset(validation_inputs, validation_masks, validation_labels)\n",
    "validation_sampler = SequentialSampler(validation_data)\n",
    "validation_dataloader = DataLoader(validation_data, sampler=validation_sampler, batch_size=batch_size)"
   ],
   "metadata": {
    "id": "FZcclWD5_S3P",
    "executionInfo": {
     "status": "ok",
     "timestamp": 1657280732689,
     "user_tz": -180,
     "elapsed": 9,
     "user": {
      "displayName": "Osman Karabulut",
      "userId": "00375047694445380885"
     }
    },
    "pycharm": {
     "name": "#%%\n"
    }
   },
   "execution_count": 26,
   "outputs": []
  },
  {
   "cell_type": "code",
   "source": [
    "from transformers import AutoModelForSequenceClassification, AdamW, AutoConfig\n",
    "config = AutoConfig.from_pretrained(\n",
    "        \"dbmdz/bert-base-turkish-cased\",num_labels=2)\n",
    "# Load BertForSequenceClassification, the pretrained BERT model with a single \n",
    "# linear classification layer on top. \n",
    "model = AutoModelForSequenceClassification.from_pretrained(\n",
    "    \"dbmdz/bert-base-turkish-cased\",config=config)\n",
    "\n",
    "model.cuda()"
   ],
   "metadata": {
    "id": "m-eZgku4_VWC",
    "colab": {
     "base_uri": "https://localhost:8080/",
     "height": 1000,
     "referenced_widgets": [
      "9f6a9b6955bf4ba1a76eb517f769f47a",
      "6b46b9ce9a874714b0eeb974cebe359b",
      "014e1cecdc214fa3a8a2d8ae5ad75c94",
      "6094bc51921241b18fef9e13250898d9",
      "c43ec7c349c7421faebe4956a8162db7",
      "fb2796a8dc2944b6aabaa06a9f7a1a85",
      "cb3067f3285442a0a89af4fada91c42f",
      "5768ca5baccf47558946f6c1c73b8f41",
      "872990aec7dc4f9c883a8fc62234e566",
      "42b977a883d540c4a5cb9edbf46b0a9b",
      "588a2e1d7428463ba55e9ac06c06db22"
     ]
    },
    "executionInfo": {
     "status": "ok",
     "timestamp": 1657280762068,
     "user_tz": -180,
     "elapsed": 29386,
     "user": {
      "displayName": "Osman Karabulut",
      "userId": "00375047694445380885"
     }
    },
    "outputId": "b35c1391-146b-4f02-b17f-bebd1685d9cf",
    "pycharm": {
     "name": "#%%\n"
    }
   },
   "execution_count": 27,
   "outputs": [
    {
     "output_type": "display_data",
     "data": {
      "text/plain": [
       "Downloading:   0%|          | 0.00/424M [00:00<?, ?B/s]"
      ],
      "application/vnd.jupyter.widget-view+json": {
       "version_major": 2,
       "version_minor": 0,
       "model_id": "9f6a9b6955bf4ba1a76eb517f769f47a"
      }
     },
     "metadata": {}
    },
    {
     "output_type": "stream",
     "name": "stderr",
     "text": [
      "Some weights of the model checkpoint at dbmdz/bert-base-turkish-cased were not used when initializing BertForSequenceClassification: ['cls.seq_relationship.bias', 'cls.predictions.decoder.bias', 'cls.predictions.transform.LayerNorm.bias', 'cls.predictions.decoder.weight', 'cls.predictions.transform.dense.bias', 'cls.seq_relationship.weight', 'cls.predictions.transform.dense.weight', 'cls.predictions.transform.LayerNorm.weight', 'cls.predictions.bias']\n",
      "- This IS expected if you are initializing BertForSequenceClassification from the checkpoint of a model trained on another task or with another architecture (e.g. initializing a BertForSequenceClassification model from a BertForPreTraining model).\n",
      "- This IS NOT expected if you are initializing BertForSequenceClassification from the checkpoint of a model that you expect to be exactly identical (initializing a BertForSequenceClassification model from a BertForSequenceClassification model).\n",
      "Some weights of BertForSequenceClassification were not initialized from the model checkpoint at dbmdz/bert-base-turkish-cased and are newly initialized: ['classifier.weight', 'classifier.bias']\n",
      "You should probably TRAIN this model on a down-stream task to be able to use it for predictions and inference.\n"
     ]
    },
    {
     "output_type": "execute_result",
     "data": {
      "text/plain": [
       "BertForSequenceClassification(\n",
       "  (bert): BertModel(\n",
       "    (embeddings): BertEmbeddings(\n",
       "      (word_embeddings): Embedding(32000, 768, padding_idx=0)\n",
       "      (position_embeddings): Embedding(512, 768)\n",
       "      (token_type_embeddings): Embedding(2, 768)\n",
       "      (LayerNorm): LayerNorm((768,), eps=1e-12, elementwise_affine=True)\n",
       "      (dropout): Dropout(p=0.1, inplace=False)\n",
       "    )\n",
       "    (encoder): BertEncoder(\n",
       "      (layer): ModuleList(\n",
       "        (0): BertLayer(\n",
       "          (attention): BertAttention(\n",
       "            (self): BertSelfAttention(\n",
       "              (query): Linear(in_features=768, out_features=768, bias=True)\n",
       "              (key): Linear(in_features=768, out_features=768, bias=True)\n",
       "              (value): Linear(in_features=768, out_features=768, bias=True)\n",
       "              (dropout): Dropout(p=0.1, inplace=False)\n",
       "            )\n",
       "            (output): BertSelfOutput(\n",
       "              (dense): Linear(in_features=768, out_features=768, bias=True)\n",
       "              (LayerNorm): LayerNorm((768,), eps=1e-12, elementwise_affine=True)\n",
       "              (dropout): Dropout(p=0.1, inplace=False)\n",
       "            )\n",
       "          )\n",
       "          (intermediate): BertIntermediate(\n",
       "            (dense): Linear(in_features=768, out_features=3072, bias=True)\n",
       "            (intermediate_act_fn): GELUActivation()\n",
       "          )\n",
       "          (output): BertOutput(\n",
       "            (dense): Linear(in_features=3072, out_features=768, bias=True)\n",
       "            (LayerNorm): LayerNorm((768,), eps=1e-12, elementwise_affine=True)\n",
       "            (dropout): Dropout(p=0.1, inplace=False)\n",
       "          )\n",
       "        )\n",
       "        (1): BertLayer(\n",
       "          (attention): BertAttention(\n",
       "            (self): BertSelfAttention(\n",
       "              (query): Linear(in_features=768, out_features=768, bias=True)\n",
       "              (key): Linear(in_features=768, out_features=768, bias=True)\n",
       "              (value): Linear(in_features=768, out_features=768, bias=True)\n",
       "              (dropout): Dropout(p=0.1, inplace=False)\n",
       "            )\n",
       "            (output): BertSelfOutput(\n",
       "              (dense): Linear(in_features=768, out_features=768, bias=True)\n",
       "              (LayerNorm): LayerNorm((768,), eps=1e-12, elementwise_affine=True)\n",
       "              (dropout): Dropout(p=0.1, inplace=False)\n",
       "            )\n",
       "          )\n",
       "          (intermediate): BertIntermediate(\n",
       "            (dense): Linear(in_features=768, out_features=3072, bias=True)\n",
       "            (intermediate_act_fn): GELUActivation()\n",
       "          )\n",
       "          (output): BertOutput(\n",
       "            (dense): Linear(in_features=3072, out_features=768, bias=True)\n",
       "            (LayerNorm): LayerNorm((768,), eps=1e-12, elementwise_affine=True)\n",
       "            (dropout): Dropout(p=0.1, inplace=False)\n",
       "          )\n",
       "        )\n",
       "        (2): BertLayer(\n",
       "          (attention): BertAttention(\n",
       "            (self): BertSelfAttention(\n",
       "              (query): Linear(in_features=768, out_features=768, bias=True)\n",
       "              (key): Linear(in_features=768, out_features=768, bias=True)\n",
       "              (value): Linear(in_features=768, out_features=768, bias=True)\n",
       "              (dropout): Dropout(p=0.1, inplace=False)\n",
       "            )\n",
       "            (output): BertSelfOutput(\n",
       "              (dense): Linear(in_features=768, out_features=768, bias=True)\n",
       "              (LayerNorm): LayerNorm((768,), eps=1e-12, elementwise_affine=True)\n",
       "              (dropout): Dropout(p=0.1, inplace=False)\n",
       "            )\n",
       "          )\n",
       "          (intermediate): BertIntermediate(\n",
       "            (dense): Linear(in_features=768, out_features=3072, bias=True)\n",
       "            (intermediate_act_fn): GELUActivation()\n",
       "          )\n",
       "          (output): BertOutput(\n",
       "            (dense): Linear(in_features=3072, out_features=768, bias=True)\n",
       "            (LayerNorm): LayerNorm((768,), eps=1e-12, elementwise_affine=True)\n",
       "            (dropout): Dropout(p=0.1, inplace=False)\n",
       "          )\n",
       "        )\n",
       "        (3): BertLayer(\n",
       "          (attention): BertAttention(\n",
       "            (self): BertSelfAttention(\n",
       "              (query): Linear(in_features=768, out_features=768, bias=True)\n",
       "              (key): Linear(in_features=768, out_features=768, bias=True)\n",
       "              (value): Linear(in_features=768, out_features=768, bias=True)\n",
       "              (dropout): Dropout(p=0.1, inplace=False)\n",
       "            )\n",
       "            (output): BertSelfOutput(\n",
       "              (dense): Linear(in_features=768, out_features=768, bias=True)\n",
       "              (LayerNorm): LayerNorm((768,), eps=1e-12, elementwise_affine=True)\n",
       "              (dropout): Dropout(p=0.1, inplace=False)\n",
       "            )\n",
       "          )\n",
       "          (intermediate): BertIntermediate(\n",
       "            (dense): Linear(in_features=768, out_features=3072, bias=True)\n",
       "            (intermediate_act_fn): GELUActivation()\n",
       "          )\n",
       "          (output): BertOutput(\n",
       "            (dense): Linear(in_features=3072, out_features=768, bias=True)\n",
       "            (LayerNorm): LayerNorm((768,), eps=1e-12, elementwise_affine=True)\n",
       "            (dropout): Dropout(p=0.1, inplace=False)\n",
       "          )\n",
       "        )\n",
       "        (4): BertLayer(\n",
       "          (attention): BertAttention(\n",
       "            (self): BertSelfAttention(\n",
       "              (query): Linear(in_features=768, out_features=768, bias=True)\n",
       "              (key): Linear(in_features=768, out_features=768, bias=True)\n",
       "              (value): Linear(in_features=768, out_features=768, bias=True)\n",
       "              (dropout): Dropout(p=0.1, inplace=False)\n",
       "            )\n",
       "            (output): BertSelfOutput(\n",
       "              (dense): Linear(in_features=768, out_features=768, bias=True)\n",
       "              (LayerNorm): LayerNorm((768,), eps=1e-12, elementwise_affine=True)\n",
       "              (dropout): Dropout(p=0.1, inplace=False)\n",
       "            )\n",
       "          )\n",
       "          (intermediate): BertIntermediate(\n",
       "            (dense): Linear(in_features=768, out_features=3072, bias=True)\n",
       "            (intermediate_act_fn): GELUActivation()\n",
       "          )\n",
       "          (output): BertOutput(\n",
       "            (dense): Linear(in_features=3072, out_features=768, bias=True)\n",
       "            (LayerNorm): LayerNorm((768,), eps=1e-12, elementwise_affine=True)\n",
       "            (dropout): Dropout(p=0.1, inplace=False)\n",
       "          )\n",
       "        )\n",
       "        (5): BertLayer(\n",
       "          (attention): BertAttention(\n",
       "            (self): BertSelfAttention(\n",
       "              (query): Linear(in_features=768, out_features=768, bias=True)\n",
       "              (key): Linear(in_features=768, out_features=768, bias=True)\n",
       "              (value): Linear(in_features=768, out_features=768, bias=True)\n",
       "              (dropout): Dropout(p=0.1, inplace=False)\n",
       "            )\n",
       "            (output): BertSelfOutput(\n",
       "              (dense): Linear(in_features=768, out_features=768, bias=True)\n",
       "              (LayerNorm): LayerNorm((768,), eps=1e-12, elementwise_affine=True)\n",
       "              (dropout): Dropout(p=0.1, inplace=False)\n",
       "            )\n",
       "          )\n",
       "          (intermediate): BertIntermediate(\n",
       "            (dense): Linear(in_features=768, out_features=3072, bias=True)\n",
       "            (intermediate_act_fn): GELUActivation()\n",
       "          )\n",
       "          (output): BertOutput(\n",
       "            (dense): Linear(in_features=3072, out_features=768, bias=True)\n",
       "            (LayerNorm): LayerNorm((768,), eps=1e-12, elementwise_affine=True)\n",
       "            (dropout): Dropout(p=0.1, inplace=False)\n",
       "          )\n",
       "        )\n",
       "        (6): BertLayer(\n",
       "          (attention): BertAttention(\n",
       "            (self): BertSelfAttention(\n",
       "              (query): Linear(in_features=768, out_features=768, bias=True)\n",
       "              (key): Linear(in_features=768, out_features=768, bias=True)\n",
       "              (value): Linear(in_features=768, out_features=768, bias=True)\n",
       "              (dropout): Dropout(p=0.1, inplace=False)\n",
       "            )\n",
       "            (output): BertSelfOutput(\n",
       "              (dense): Linear(in_features=768, out_features=768, bias=True)\n",
       "              (LayerNorm): LayerNorm((768,), eps=1e-12, elementwise_affine=True)\n",
       "              (dropout): Dropout(p=0.1, inplace=False)\n",
       "            )\n",
       "          )\n",
       "          (intermediate): BertIntermediate(\n",
       "            (dense): Linear(in_features=768, out_features=3072, bias=True)\n",
       "            (intermediate_act_fn): GELUActivation()\n",
       "          )\n",
       "          (output): BertOutput(\n",
       "            (dense): Linear(in_features=3072, out_features=768, bias=True)\n",
       "            (LayerNorm): LayerNorm((768,), eps=1e-12, elementwise_affine=True)\n",
       "            (dropout): Dropout(p=0.1, inplace=False)\n",
       "          )\n",
       "        )\n",
       "        (7): BertLayer(\n",
       "          (attention): BertAttention(\n",
       "            (self): BertSelfAttention(\n",
       "              (query): Linear(in_features=768, out_features=768, bias=True)\n",
       "              (key): Linear(in_features=768, out_features=768, bias=True)\n",
       "              (value): Linear(in_features=768, out_features=768, bias=True)\n",
       "              (dropout): Dropout(p=0.1, inplace=False)\n",
       "            )\n",
       "            (output): BertSelfOutput(\n",
       "              (dense): Linear(in_features=768, out_features=768, bias=True)\n",
       "              (LayerNorm): LayerNorm((768,), eps=1e-12, elementwise_affine=True)\n",
       "              (dropout): Dropout(p=0.1, inplace=False)\n",
       "            )\n",
       "          )\n",
       "          (intermediate): BertIntermediate(\n",
       "            (dense): Linear(in_features=768, out_features=3072, bias=True)\n",
       "            (intermediate_act_fn): GELUActivation()\n",
       "          )\n",
       "          (output): BertOutput(\n",
       "            (dense): Linear(in_features=3072, out_features=768, bias=True)\n",
       "            (LayerNorm): LayerNorm((768,), eps=1e-12, elementwise_affine=True)\n",
       "            (dropout): Dropout(p=0.1, inplace=False)\n",
       "          )\n",
       "        )\n",
       "        (8): BertLayer(\n",
       "          (attention): BertAttention(\n",
       "            (self): BertSelfAttention(\n",
       "              (query): Linear(in_features=768, out_features=768, bias=True)\n",
       "              (key): Linear(in_features=768, out_features=768, bias=True)\n",
       "              (value): Linear(in_features=768, out_features=768, bias=True)\n",
       "              (dropout): Dropout(p=0.1, inplace=False)\n",
       "            )\n",
       "            (output): BertSelfOutput(\n",
       "              (dense): Linear(in_features=768, out_features=768, bias=True)\n",
       "              (LayerNorm): LayerNorm((768,), eps=1e-12, elementwise_affine=True)\n",
       "              (dropout): Dropout(p=0.1, inplace=False)\n",
       "            )\n",
       "          )\n",
       "          (intermediate): BertIntermediate(\n",
       "            (dense): Linear(in_features=768, out_features=3072, bias=True)\n",
       "            (intermediate_act_fn): GELUActivation()\n",
       "          )\n",
       "          (output): BertOutput(\n",
       "            (dense): Linear(in_features=3072, out_features=768, bias=True)\n",
       "            (LayerNorm): LayerNorm((768,), eps=1e-12, elementwise_affine=True)\n",
       "            (dropout): Dropout(p=0.1, inplace=False)\n",
       "          )\n",
       "        )\n",
       "        (9): BertLayer(\n",
       "          (attention): BertAttention(\n",
       "            (self): BertSelfAttention(\n",
       "              (query): Linear(in_features=768, out_features=768, bias=True)\n",
       "              (key): Linear(in_features=768, out_features=768, bias=True)\n",
       "              (value): Linear(in_features=768, out_features=768, bias=True)\n",
       "              (dropout): Dropout(p=0.1, inplace=False)\n",
       "            )\n",
       "            (output): BertSelfOutput(\n",
       "              (dense): Linear(in_features=768, out_features=768, bias=True)\n",
       "              (LayerNorm): LayerNorm((768,), eps=1e-12, elementwise_affine=True)\n",
       "              (dropout): Dropout(p=0.1, inplace=False)\n",
       "            )\n",
       "          )\n",
       "          (intermediate): BertIntermediate(\n",
       "            (dense): Linear(in_features=768, out_features=3072, bias=True)\n",
       "            (intermediate_act_fn): GELUActivation()\n",
       "          )\n",
       "          (output): BertOutput(\n",
       "            (dense): Linear(in_features=3072, out_features=768, bias=True)\n",
       "            (LayerNorm): LayerNorm((768,), eps=1e-12, elementwise_affine=True)\n",
       "            (dropout): Dropout(p=0.1, inplace=False)\n",
       "          )\n",
       "        )\n",
       "        (10): BertLayer(\n",
       "          (attention): BertAttention(\n",
       "            (self): BertSelfAttention(\n",
       "              (query): Linear(in_features=768, out_features=768, bias=True)\n",
       "              (key): Linear(in_features=768, out_features=768, bias=True)\n",
       "              (value): Linear(in_features=768, out_features=768, bias=True)\n",
       "              (dropout): Dropout(p=0.1, inplace=False)\n",
       "            )\n",
       "            (output): BertSelfOutput(\n",
       "              (dense): Linear(in_features=768, out_features=768, bias=True)\n",
       "              (LayerNorm): LayerNorm((768,), eps=1e-12, elementwise_affine=True)\n",
       "              (dropout): Dropout(p=0.1, inplace=False)\n",
       "            )\n",
       "          )\n",
       "          (intermediate): BertIntermediate(\n",
       "            (dense): Linear(in_features=768, out_features=3072, bias=True)\n",
       "            (intermediate_act_fn): GELUActivation()\n",
       "          )\n",
       "          (output): BertOutput(\n",
       "            (dense): Linear(in_features=3072, out_features=768, bias=True)\n",
       "            (LayerNorm): LayerNorm((768,), eps=1e-12, elementwise_affine=True)\n",
       "            (dropout): Dropout(p=0.1, inplace=False)\n",
       "          )\n",
       "        )\n",
       "        (11): BertLayer(\n",
       "          (attention): BertAttention(\n",
       "            (self): BertSelfAttention(\n",
       "              (query): Linear(in_features=768, out_features=768, bias=True)\n",
       "              (key): Linear(in_features=768, out_features=768, bias=True)\n",
       "              (value): Linear(in_features=768, out_features=768, bias=True)\n",
       "              (dropout): Dropout(p=0.1, inplace=False)\n",
       "            )\n",
       "            (output): BertSelfOutput(\n",
       "              (dense): Linear(in_features=768, out_features=768, bias=True)\n",
       "              (LayerNorm): LayerNorm((768,), eps=1e-12, elementwise_affine=True)\n",
       "              (dropout): Dropout(p=0.1, inplace=False)\n",
       "            )\n",
       "          )\n",
       "          (intermediate): BertIntermediate(\n",
       "            (dense): Linear(in_features=768, out_features=3072, bias=True)\n",
       "            (intermediate_act_fn): GELUActivation()\n",
       "          )\n",
       "          (output): BertOutput(\n",
       "            (dense): Linear(in_features=3072, out_features=768, bias=True)\n",
       "            (LayerNorm): LayerNorm((768,), eps=1e-12, elementwise_affine=True)\n",
       "            (dropout): Dropout(p=0.1, inplace=False)\n",
       "          )\n",
       "        )\n",
       "      )\n",
       "    )\n",
       "    (pooler): BertPooler(\n",
       "      (dense): Linear(in_features=768, out_features=768, bias=True)\n",
       "      (activation): Tanh()\n",
       "    )\n",
       "  )\n",
       "  (dropout): Dropout(p=0.1, inplace=False)\n",
       "  (classifier): Linear(in_features=768, out_features=2, bias=True)\n",
       ")"
      ]
     },
     "metadata": {},
     "execution_count": 27
    }
   ]
  },
  {
   "cell_type": "code",
   "source": [
    "optimizer = AdamW(model.parameters(),\n",
    "                  lr = 2e-5, # args.learning_rate - default is 5e-5\n",
    "                  betas=[0.9,0.999],\n",
    "                  eps = 1e-6 # args.adam_epsilon  - default is 1e-8.\n",
    "                )\n",
    "from transformers import get_linear_schedule_with_warmup\n",
    "\n",
    "# Number of training epochs (authors recommend between 2 and 4)\n",
    "epochs = 1\n",
    "\n",
    "# Total number of training steps is number of batches * number of epochs.\n",
    "total_steps = len(train_dataloader) * epochs\n",
    "\n",
    "# Create the learning rate scheduler.\n",
    "scheduler = get_linear_schedule_with_warmup(optimizer, \n",
    "                                            num_warmup_steps = 0, # Default value in run_glue.py\n",
    "                                            num_training_steps = total_steps)"
   ],
   "metadata": {
    "id": "SRbSIrBq_Zan",
    "colab": {
     "base_uri": "https://localhost:8080/"
    },
    "executionInfo": {
     "status": "ok",
     "timestamp": 1657280762069,
     "user_tz": -180,
     "elapsed": 67,
     "user": {
      "displayName": "Osman Karabulut",
      "userId": "00375047694445380885"
     }
    },
    "outputId": "4b9a66e0-71d0-44ca-baf9-d8f034366996",
    "pycharm": {
     "name": "#%%\n"
    }
   },
   "execution_count": 28,
   "outputs": [
    {
     "output_type": "stream",
     "name": "stderr",
     "text": [
      "/usr/local/lib/python3.7/dist-packages/transformers/optimization.py:310: FutureWarning: This implementation of AdamW is deprecated and will be removed in a future version. Use the PyTorch implementation torch.optim.AdamW instead, or set `no_deprecation_warning=True` to disable this warning\n",
      "  FutureWarning,\n"
     ]
    }
   ]
  },
  {
   "cell_type": "code",
   "source": [
    "import numpy as np\n",
    "\n",
    "# Function to calculate the accuracy of our predictions vs labels\n",
    "def flat_accuracy(preds, labels):\n",
    "    pred_flat = np.argmax(preds, axis=1).flatten()\n",
    "    labels_flat = labels.flatten()\n",
    "    return np.sum(pred_flat == labels_flat) / len(labels_flat)"
   ],
   "metadata": {
    "id": "Re2LZ5ZW_eah",
    "executionInfo": {
     "status": "ok",
     "timestamp": 1657280762069,
     "user_tz": -180,
     "elapsed": 63,
     "user": {
      "displayName": "Osman Karabulut",
      "userId": "00375047694445380885"
     }
    },
    "pycharm": {
     "name": "#%%\n"
    }
   },
   "execution_count": 29,
   "outputs": []
  },
  {
   "cell_type": "code",
   "source": [
    "import time\n",
    "import datetime\n",
    "\n",
    "def format_time(elapsed):\n",
    "    '''\n",
    "    Takes a time in seconds and returns a string hh:mm:ss\n",
    "    '''\n",
    "    # Round to the nearest second.\n",
    "    elapsed_rounded = int(round((elapsed)))\n",
    "    \n",
    "    # Format as hh:mm:ss\n",
    "    return str(datetime.timedelta(seconds=elapsed_rounded))"
   ],
   "metadata": {
    "id": "rf-I2COW_gJ_",
    "executionInfo": {
     "status": "ok",
     "timestamp": 1657280762070,
     "user_tz": -180,
     "elapsed": 63,
     "user": {
      "displayName": "Osman Karabulut",
      "userId": "00375047694445380885"
     }
    },
    "pycharm": {
     "name": "#%%\n"
    }
   },
   "execution_count": 30,
   "outputs": []
  },
  {
   "cell_type": "code",
   "source": [
    "import random\n",
    "\n",
    "# This training code is based on the `run_glue.py` script here:\n",
    "# https://github.com/huggingface/transformers/blob/5bfcd0485ece086ebcbed2d008813037968a9e58/examples/run_glue.py#L128\n",
    "\n",
    "\n",
    "# Set the seed value all over the place to make this reproducible.\n",
    "seed_val = 42\n",
    "\n",
    "random.seed(seed_val)\n",
    "np.random.seed(seed_val)\n",
    "torch.manual_seed(seed_val)\n",
    "torch.cuda.manual_seed_all(seed_val)\n",
    "\n",
    "# Store the average loss after each epoch so we can plot them.\n",
    "loss_values = []\n",
    "\n",
    "# For each epoch...\n",
    "for epoch_i in range(0, epochs):\n",
    "    \n",
    "    # ========================================\n",
    "    #               Training\n",
    "    # ========================================\n",
    "    \n",
    "    # Perform one full pass over the training set.\n",
    "\n",
    "    print(\"\")\n",
    "    print('======== Epoch {:} / {:} ========'.format(epoch_i + 1, epochs))\n",
    "    print('Training...')\n",
    "\n",
    "    # Measure how long the training epoch takes.\n",
    "    t0 = time.time()\n",
    "\n",
    "    # Reset the total loss for this epoch.\n",
    "    total_loss = 0\n",
    "\n",
    "    # Put the model into training mode. Don't be mislead--the call to \n",
    "    # `train` just changes the *mode*, it doesn't *perform* the training.\n",
    "    # `dropout` and `batchnorm` layers behave differently during training\n",
    "    # vs. test (source: https://stackoverflow.com/questions/51433378/what-does-model-train-do-in-pytorch)\n",
    "    model.train()\n",
    "\n",
    "    # For each batch of training data...\n",
    "    for step, batch in enumerate(train_dataloader):\n",
    "\n",
    "        # Progress update every 30 batches.\n",
    "        if step % 30 == 0 and not step == 0:\n",
    "            # Calculate elapsed time in minutes.\n",
    "            elapsed = format_time(time.time() - t0)\n",
    "            \n",
    "            # Report progress.\n",
    "            print('  Batch {:>5,}  of  {:>5,}.    Elapsed: {:}.'.format(step, len(train_dataloader), elapsed))\n",
    "\n",
    "        # Unpack this training batch from our dataloader. \n",
    "        #\n",
    "        # As we unpack the batch, we'll also copy each tensor to the GPU using the \n",
    "        # `to` method.\n",
    "        #\n",
    "        # `batch` contains three pytorch tensors:\n",
    "        #   [0]: input ids \n",
    "        #   [1]: attention masks\n",
    "        #   [2]: labels \n",
    "        b_input_ids = batch[0].to(device)\n",
    "        b_input_mask = batch[1].to(device)\n",
    "        b_labels = batch[2].to(device)\n",
    "        \n",
    "        # Always clear any previously calculated gradients before performing a\n",
    "        # backward pass. PyTorch doesn't do this automatically because \n",
    "        # accumulating the gradients is \"convenient while training RNNs\". \n",
    "        # (source: https://stackoverflow.com/questions/48001598/why-do-we-need-to-call-zero-grad-in-pytorch)\n",
    "        model.zero_grad()        \n",
    "\n",
    "        # Perform a forward pass (evaluate the model on this training batch).\n",
    "        # This will return the loss (rather than the model output) because we\n",
    "        # have provided the `labels`.\n",
    "        # The documentation for this `model` function is here: \n",
    "        # https://huggingface.co/transformers/v2.2.0/model_doc/bert.html#transformers.BertForSequenceClassification\n",
    "        outputs = model(b_input_ids, \n",
    "                    token_type_ids=None, \n",
    "                    attention_mask=b_input_mask, \n",
    "                    labels=b_labels)\n",
    "        \n",
    "        # The call to `model` always returns a tuple, so we need to pull the \n",
    "        # loss value out of the tuple.\n",
    "        loss = outputs[0]\n",
    "\n",
    "        # Accumulate the training loss over all of the batches so that we can\n",
    "        # calculate the average loss at the end. `loss` is a Tensor containing a\n",
    "        # single value; the `.item()` function just returns the Python value \n",
    "        # from the tensor.\n",
    "        total_loss += loss.item()\n",
    "\n",
    "        # Perform a backward pass to calculate the gradients.\n",
    "        loss.backward()\n",
    "\n",
    "        # Clip the norm of the gradients to 1.0.\n",
    "        # This is to help prevent the \"exploding gradients\" problem.\n",
    "        torch.nn.utils.clip_grad_norm_(model.parameters(), 1.0)\n",
    "\n",
    "        # Update parameters and take a step using the computed gradient.\n",
    "        # The optimizer dictates the \"update rule\"--how the parameters are\n",
    "        # modified based on their gradients, the learning rate, etc.\n",
    "        optimizer.step()\n",
    "\n",
    "        # Update the learning rate.\n",
    "        scheduler.step()\n",
    "\n",
    "    # Calculate the average loss over the training data.\n",
    "    avg_train_loss = total_loss / len(train_dataloader)            \n",
    "    \n",
    "    # Store the loss value for plotting the learning curve.\n",
    "    loss_values.append(avg_train_loss)\n",
    "\n",
    "    print(\"\")\n",
    "    print(\"  Average training loss: {0:.2f}\".format(avg_train_loss))\n",
    "    print(\"  Training epoch took: {:}\".format(format_time(time.time() - t0)))\n",
    "        \n",
    "    # ========================================\n",
    "    #               Validation\n",
    "    # ========================================\n",
    "    # After the completion of each training epoch, measure our performance on\n",
    "    # our validation set.\n",
    "\n",
    "    print(\"\")\n",
    "    print(\"Running Validation...\")\n",
    "\n",
    "    t0 = time.time()\n",
    "\n",
    "    # Put the model in evaluation mode--the dropout layers behave differently\n",
    "    # during evaluation.\n",
    "    model.eval()\n",
    "\n",
    "    # Tracking variables \n",
    "    eval_loss, eval_accuracy = 0, 0\n",
    "    nb_eval_steps, nb_eval_examples = 0, 0\n",
    "\n",
    "    # Evaluate data for one epoch\n",
    "    for batch in validation_dataloader:\n",
    "        \n",
    "        # Add batch to GPU\n",
    "        batch = tuple(t.to(device) for t in batch)\n",
    "        \n",
    "        # Unpack the inputs from our dataloader\n",
    "        b_input_ids, b_input_mask, b_labels = batch\n",
    "        \n",
    "        # Telling the model not to compute or store gradients, saving memory and\n",
    "        # speeding up validation\n",
    "        with torch.no_grad():        \n",
    "\n",
    "            # Forward pass, calculate logit predictions.\n",
    "            # This will return the logits rather than the loss because we have\n",
    "            # not provided labels.\n",
    "            # token_type_ids is the same as the \"segment ids\", which \n",
    "            # differentiates sentence 1 and 2 in 2-sentence tasks.\n",
    "            # The documentation for this `model` function is here: \n",
    "            # https://huggingface.co/transformers/v2.2.0/model_doc/bert.html#transformers.BertForSequenceClassification\n",
    "            outputs = model(b_input_ids, \n",
    "                            token_type_ids=None, \n",
    "                            attention_mask=b_input_mask)\n",
    "        \n",
    "        # Get the \"logits\" output by the model. The \"logits\" are the output\n",
    "        # values prior to applying an activation function like the softmax.\n",
    "        logits = outputs[0]\n",
    "\n",
    "        # Move logits and labels to CPU\n",
    "        logits = logits.detach().cpu().numpy()\n",
    "        label_ids = b_labels.to('cpu').numpy()\n",
    "        \n",
    "        # Calculate the accuracy for this batch of test sentences.\n",
    "        tmp_eval_accuracy = flat_accuracy(logits, label_ids)\n",
    "        \n",
    "        # Accumulate the total accuracy.\n",
    "        eval_accuracy += tmp_eval_accuracy\n",
    "\n",
    "        # Track the number of batches\n",
    "        nb_eval_steps += 1\n",
    "\n",
    "    # Report the final accuracy for this validation run.\n",
    "    print(\"  Accuracy: {0:.2f}\".format(eval_accuracy/nb_eval_steps))\n",
    "    print(\"  Validation took: {:}\".format(format_time(time.time() - t0)))\n",
    "\n",
    "print(\"\")\n",
    "print(\"Training complete!\")"
   ],
   "metadata": {
    "id": "7KCgCSIK_kll",
    "colab": {
     "base_uri": "https://localhost:8080/"
    },
    "executionInfo": {
     "status": "ok",
     "timestamp": 1657285145852,
     "user_tz": -180,
     "elapsed": 4383844,
     "user": {
      "displayName": "Osman Karabulut",
      "userId": "00375047694445380885"
     }
    },
    "outputId": "ea4e9665-af78-4b17-b21c-0722f5f9d8ff",
    "pycharm": {
     "name": "#%%\n"
    }
   },
   "execution_count": 31,
   "outputs": [
    {
     "output_type": "stream",
     "name": "stdout",
     "text": [
      "\n",
      "======== Epoch 1 / 1 ========\n",
      "Training...\n",
      "  Batch    30  of  9,740.    Elapsed: 0:00:11.\n",
      "  Batch    60  of  9,740.    Elapsed: 0:00:23.\n",
      "  Batch    90  of  9,740.    Elapsed: 0:00:34.\n",
      "  Batch   120  of  9,740.    Elapsed: 0:00:46.\n",
      "  Batch   150  of  9,740.    Elapsed: 0:00:57.\n",
      "  Batch   180  of  9,740.    Elapsed: 0:01:09.\n",
      "  Batch   210  of  9,740.    Elapsed: 0:01:21.\n",
      "  Batch   240  of  9,740.    Elapsed: 0:01:34.\n",
      "  Batch   270  of  9,740.    Elapsed: 0:01:46.\n",
      "  Batch   300  of  9,740.    Elapsed: 0:01:58.\n",
      "  Batch   330  of  9,740.    Elapsed: 0:02:11.\n",
      "  Batch   360  of  9,740.    Elapsed: 0:02:23.\n",
      "  Batch   390  of  9,740.    Elapsed: 0:02:36.\n",
      "  Batch   420  of  9,740.    Elapsed: 0:02:48.\n",
      "  Batch   450  of  9,740.    Elapsed: 0:03:00.\n",
      "  Batch   480  of  9,740.    Elapsed: 0:03:13.\n",
      "  Batch   510  of  9,740.    Elapsed: 0:03:25.\n",
      "  Batch   540  of  9,740.    Elapsed: 0:03:37.\n",
      "  Batch   570  of  9,740.    Elapsed: 0:03:50.\n",
      "  Batch   600  of  9,740.    Elapsed: 0:04:02.\n",
      "  Batch   630  of  9,740.    Elapsed: 0:04:15.\n",
      "  Batch   660  of  9,740.    Elapsed: 0:04:27.\n",
      "  Batch   690  of  9,740.    Elapsed: 0:04:39.\n",
      "  Batch   720  of  9,740.    Elapsed: 0:04:52.\n",
      "  Batch   750  of  9,740.    Elapsed: 0:05:04.\n",
      "  Batch   780  of  9,740.    Elapsed: 0:05:16.\n",
      "  Batch   810  of  9,740.    Elapsed: 0:05:29.\n",
      "  Batch   840  of  9,740.    Elapsed: 0:05:41.\n",
      "  Batch   870  of  9,740.    Elapsed: 0:05:53.\n",
      "  Batch   900  of  9,740.    Elapsed: 0:06:06.\n",
      "  Batch   930  of  9,740.    Elapsed: 0:06:18.\n",
      "  Batch   960  of  9,740.    Elapsed: 0:06:31.\n",
      "  Batch   990  of  9,740.    Elapsed: 0:06:43.\n",
      "  Batch 1,020  of  9,740.    Elapsed: 0:06:55.\n",
      "  Batch 1,050  of  9,740.    Elapsed: 0:07:08.\n",
      "  Batch 1,080  of  9,740.    Elapsed: 0:07:20.\n",
      "  Batch 1,110  of  9,740.    Elapsed: 0:07:33.\n",
      "  Batch 1,140  of  9,740.    Elapsed: 0:07:45.\n",
      "  Batch 1,170  of  9,740.    Elapsed: 0:07:57.\n",
      "  Batch 1,200  of  9,740.    Elapsed: 0:08:10.\n",
      "  Batch 1,230  of  9,740.    Elapsed: 0:08:22.\n",
      "  Batch 1,260  of  9,740.    Elapsed: 0:08:35.\n",
      "  Batch 1,290  of  9,740.    Elapsed: 0:08:47.\n",
      "  Batch 1,320  of  9,740.    Elapsed: 0:08:59.\n",
      "  Batch 1,350  of  9,740.    Elapsed: 0:09:12.\n",
      "  Batch 1,380  of  9,740.    Elapsed: 0:09:24.\n",
      "  Batch 1,410  of  9,740.    Elapsed: 0:09:36.\n",
      "  Batch 1,440  of  9,740.    Elapsed: 0:09:49.\n",
      "  Batch 1,470  of  9,740.    Elapsed: 0:10:01.\n",
      "  Batch 1,500  of  9,740.    Elapsed: 0:10:14.\n",
      "  Batch 1,530  of  9,740.    Elapsed: 0:10:26.\n",
      "  Batch 1,560  of  9,740.    Elapsed: 0:10:38.\n",
      "  Batch 1,590  of  9,740.    Elapsed: 0:10:51.\n",
      "  Batch 1,620  of  9,740.    Elapsed: 0:11:03.\n",
      "  Batch 1,650  of  9,740.    Elapsed: 0:11:16.\n",
      "  Batch 1,680  of  9,740.    Elapsed: 0:11:28.\n",
      "  Batch 1,710  of  9,740.    Elapsed: 0:11:40.\n",
      "  Batch 1,740  of  9,740.    Elapsed: 0:11:53.\n",
      "  Batch 1,770  of  9,740.    Elapsed: 0:12:05.\n",
      "  Batch 1,800  of  9,740.    Elapsed: 0:12:18.\n",
      "  Batch 1,830  of  9,740.    Elapsed: 0:12:30.\n",
      "  Batch 1,860  of  9,740.    Elapsed: 0:12:42.\n",
      "  Batch 1,890  of  9,740.    Elapsed: 0:12:55.\n",
      "  Batch 1,920  of  9,740.    Elapsed: 0:13:07.\n",
      "  Batch 1,950  of  9,740.    Elapsed: 0:13:19.\n",
      "  Batch 1,980  of  9,740.    Elapsed: 0:13:32.\n",
      "  Batch 2,010  of  9,740.    Elapsed: 0:13:44.\n",
      "  Batch 2,040  of  9,740.    Elapsed: 0:13:57.\n",
      "  Batch 2,070  of  9,740.    Elapsed: 0:14:09.\n",
      "  Batch 2,100  of  9,740.    Elapsed: 0:14:21.\n",
      "  Batch 2,130  of  9,740.    Elapsed: 0:14:34.\n",
      "  Batch 2,160  of  9,740.    Elapsed: 0:14:46.\n",
      "  Batch 2,190  of  9,740.    Elapsed: 0:14:59.\n",
      "  Batch 2,220  of  9,740.    Elapsed: 0:15:11.\n",
      "  Batch 2,250  of  9,740.    Elapsed: 0:15:23.\n",
      "  Batch 2,280  of  9,740.    Elapsed: 0:15:36.\n",
      "  Batch 2,310  of  9,740.    Elapsed: 0:15:48.\n",
      "  Batch 2,340  of  9,740.    Elapsed: 0:16:01.\n",
      "  Batch 2,370  of  9,740.    Elapsed: 0:16:13.\n",
      "  Batch 2,400  of  9,740.    Elapsed: 0:16:25.\n",
      "  Batch 2,430  of  9,740.    Elapsed: 0:16:38.\n",
      "  Batch 2,460  of  9,740.    Elapsed: 0:16:50.\n",
      "  Batch 2,490  of  9,740.    Elapsed: 0:17:03.\n",
      "  Batch 2,520  of  9,740.    Elapsed: 0:17:15.\n",
      "  Batch 2,550  of  9,740.    Elapsed: 0:17:28.\n",
      "  Batch 2,580  of  9,740.    Elapsed: 0:17:40.\n",
      "  Batch 2,610  of  9,740.    Elapsed: 0:17:53.\n",
      "  Batch 2,640  of  9,740.    Elapsed: 0:18:05.\n",
      "  Batch 2,670  of  9,740.    Elapsed: 0:18:18.\n",
      "  Batch 2,700  of  9,740.    Elapsed: 0:18:30.\n",
      "  Batch 2,730  of  9,740.    Elapsed: 0:18:42.\n",
      "  Batch 2,760  of  9,740.    Elapsed: 0:18:55.\n",
      "  Batch 2,790  of  9,740.    Elapsed: 0:19:07.\n",
      "  Batch 2,820  of  9,740.    Elapsed: 0:19:19.\n",
      "  Batch 2,850  of  9,740.    Elapsed: 0:19:32.\n",
      "  Batch 2,880  of  9,740.    Elapsed: 0:19:44.\n",
      "  Batch 2,910  of  9,740.    Elapsed: 0:19:56.\n",
      "  Batch 2,940  of  9,740.    Elapsed: 0:20:09.\n",
      "  Batch 2,970  of  9,740.    Elapsed: 0:20:21.\n",
      "  Batch 3,000  of  9,740.    Elapsed: 0:20:34.\n",
      "  Batch 3,030  of  9,740.    Elapsed: 0:20:46.\n",
      "  Batch 3,060  of  9,740.    Elapsed: 0:20:58.\n",
      "  Batch 3,090  of  9,740.    Elapsed: 0:21:11.\n",
      "  Batch 3,120  of  9,740.    Elapsed: 0:21:23.\n",
      "  Batch 3,150  of  9,740.    Elapsed: 0:21:36.\n",
      "  Batch 3,180  of  9,740.    Elapsed: 0:21:48.\n",
      "  Batch 3,210  of  9,740.    Elapsed: 0:22:00.\n",
      "  Batch 3,240  of  9,740.    Elapsed: 0:22:13.\n",
      "  Batch 3,270  of  9,740.    Elapsed: 0:22:25.\n",
      "  Batch 3,300  of  9,740.    Elapsed: 0:22:37.\n",
      "  Batch 3,330  of  9,740.    Elapsed: 0:22:50.\n",
      "  Batch 3,360  of  9,740.    Elapsed: 0:23:02.\n",
      "  Batch 3,390  of  9,740.    Elapsed: 0:23:15.\n",
      "  Batch 3,420  of  9,740.    Elapsed: 0:23:27.\n",
      "  Batch 3,450  of  9,740.    Elapsed: 0:23:39.\n",
      "  Batch 3,480  of  9,740.    Elapsed: 0:23:52.\n",
      "  Batch 3,510  of  9,740.    Elapsed: 0:24:04.\n",
      "  Batch 3,540  of  9,740.    Elapsed: 0:24:17.\n",
      "  Batch 3,570  of  9,740.    Elapsed: 0:24:29.\n",
      "  Batch 3,600  of  9,740.    Elapsed: 0:24:41.\n",
      "  Batch 3,630  of  9,740.    Elapsed: 0:24:54.\n",
      "  Batch 3,660  of  9,740.    Elapsed: 0:25:06.\n",
      "  Batch 3,690  of  9,740.    Elapsed: 0:25:19.\n",
      "  Batch 3,720  of  9,740.    Elapsed: 0:25:31.\n",
      "  Batch 3,750  of  9,740.    Elapsed: 0:25:43.\n",
      "  Batch 3,780  of  9,740.    Elapsed: 0:25:56.\n",
      "  Batch 3,810  of  9,740.    Elapsed: 0:26:08.\n",
      "  Batch 3,840  of  9,740.    Elapsed: 0:26:20.\n",
      "  Batch 3,870  of  9,740.    Elapsed: 0:26:33.\n",
      "  Batch 3,900  of  9,740.    Elapsed: 0:26:45.\n",
      "  Batch 3,930  of  9,740.    Elapsed: 0:26:58.\n",
      "  Batch 3,960  of  9,740.    Elapsed: 0:27:10.\n",
      "  Batch 3,990  of  9,740.    Elapsed: 0:27:22.\n",
      "  Batch 4,020  of  9,740.    Elapsed: 0:27:35.\n",
      "  Batch 4,050  of  9,740.    Elapsed: 0:27:47.\n",
      "  Batch 4,080  of  9,740.    Elapsed: 0:27:59.\n",
      "  Batch 4,110  of  9,740.    Elapsed: 0:28:12.\n",
      "  Batch 4,140  of  9,740.    Elapsed: 0:28:24.\n",
      "  Batch 4,170  of  9,740.    Elapsed: 0:28:37.\n",
      "  Batch 4,200  of  9,740.    Elapsed: 0:28:49.\n",
      "  Batch 4,230  of  9,740.    Elapsed: 0:29:01.\n",
      "  Batch 4,260  of  9,740.    Elapsed: 0:29:14.\n",
      "  Batch 4,290  of  9,740.    Elapsed: 0:29:26.\n",
      "  Batch 4,320  of  9,740.    Elapsed: 0:29:39.\n",
      "  Batch 4,350  of  9,740.    Elapsed: 0:29:51.\n",
      "  Batch 4,380  of  9,740.    Elapsed: 0:30:03.\n",
      "  Batch 4,410  of  9,740.    Elapsed: 0:30:16.\n",
      "  Batch 4,440  of  9,740.    Elapsed: 0:30:28.\n",
      "  Batch 4,470  of  9,740.    Elapsed: 0:30:41.\n",
      "  Batch 4,500  of  9,740.    Elapsed: 0:30:53.\n",
      "  Batch 4,530  of  9,740.    Elapsed: 0:31:05.\n",
      "  Batch 4,560  of  9,740.    Elapsed: 0:31:18.\n",
      "  Batch 4,590  of  9,740.    Elapsed: 0:31:30.\n",
      "  Batch 4,620  of  9,740.    Elapsed: 0:31:43.\n",
      "  Batch 4,650  of  9,740.    Elapsed: 0:31:55.\n",
      "  Batch 4,680  of  9,740.    Elapsed: 0:32:07.\n",
      "  Batch 4,710  of  9,740.    Elapsed: 0:32:20.\n",
      "  Batch 4,740  of  9,740.    Elapsed: 0:32:33.\n",
      "  Batch 4,770  of  9,740.    Elapsed: 0:32:45.\n",
      "  Batch 4,800  of  9,740.    Elapsed: 0:32:57.\n",
      "  Batch 4,830  of  9,740.    Elapsed: 0:33:10.\n",
      "  Batch 4,860  of  9,740.    Elapsed: 0:33:22.\n",
      "  Batch 4,890  of  9,740.    Elapsed: 0:33:35.\n",
      "  Batch 4,920  of  9,740.    Elapsed: 0:33:47.\n",
      "  Batch 4,950  of  9,740.    Elapsed: 0:33:59.\n",
      "  Batch 4,980  of  9,740.    Elapsed: 0:34:12.\n",
      "  Batch 5,010  of  9,740.    Elapsed: 0:34:24.\n",
      "  Batch 5,040  of  9,740.    Elapsed: 0:34:36.\n",
      "  Batch 5,070  of  9,740.    Elapsed: 0:34:49.\n",
      "  Batch 5,100  of  9,740.    Elapsed: 0:35:01.\n",
      "  Batch 5,130  of  9,740.    Elapsed: 0:35:14.\n",
      "  Batch 5,160  of  9,740.    Elapsed: 0:35:26.\n",
      "  Batch 5,190  of  9,740.    Elapsed: 0:35:38.\n",
      "  Batch 5,220  of  9,740.    Elapsed: 0:35:51.\n",
      "  Batch 5,250  of  9,740.    Elapsed: 0:36:03.\n",
      "  Batch 5,280  of  9,740.    Elapsed: 0:36:15.\n",
      "  Batch 5,310  of  9,740.    Elapsed: 0:36:28.\n",
      "  Batch 5,340  of  9,740.    Elapsed: 0:36:40.\n",
      "  Batch 5,370  of  9,740.    Elapsed: 0:36:53.\n",
      "  Batch 5,400  of  9,740.    Elapsed: 0:37:05.\n",
      "  Batch 5,430  of  9,740.    Elapsed: 0:37:17.\n",
      "  Batch 5,460  of  9,740.    Elapsed: 0:37:30.\n",
      "  Batch 5,490  of  9,740.    Elapsed: 0:37:42.\n",
      "  Batch 5,520  of  9,740.    Elapsed: 0:37:54.\n",
      "  Batch 5,550  of  9,740.    Elapsed: 0:38:07.\n",
      "  Batch 5,580  of  9,740.    Elapsed: 0:38:19.\n",
      "  Batch 5,610  of  9,740.    Elapsed: 0:38:32.\n",
      "  Batch 5,640  of  9,740.    Elapsed: 0:38:44.\n",
      "  Batch 5,670  of  9,740.    Elapsed: 0:38:56.\n",
      "  Batch 5,700  of  9,740.    Elapsed: 0:39:09.\n",
      "  Batch 5,730  of  9,740.    Elapsed: 0:39:21.\n",
      "  Batch 5,760  of  9,740.    Elapsed: 0:39:34.\n",
      "  Batch 5,790  of  9,740.    Elapsed: 0:39:46.\n",
      "  Batch 5,820  of  9,740.    Elapsed: 0:39:58.\n",
      "  Batch 5,850  of  9,740.    Elapsed: 0:40:11.\n",
      "  Batch 5,880  of  9,740.    Elapsed: 0:40:23.\n",
      "  Batch 5,910  of  9,740.    Elapsed: 0:40:35.\n",
      "  Batch 5,940  of  9,740.    Elapsed: 0:40:48.\n",
      "  Batch 5,970  of  9,740.    Elapsed: 0:41:00.\n",
      "  Batch 6,000  of  9,740.    Elapsed: 0:41:12.\n",
      "  Batch 6,030  of  9,740.    Elapsed: 0:41:25.\n",
      "  Batch 6,060  of  9,740.    Elapsed: 0:41:37.\n",
      "  Batch 6,090  of  9,740.    Elapsed: 0:41:50.\n",
      "  Batch 6,120  of  9,740.    Elapsed: 0:42:02.\n",
      "  Batch 6,150  of  9,740.    Elapsed: 0:42:14.\n",
      "  Batch 6,180  of  9,740.    Elapsed: 0:42:27.\n",
      "  Batch 6,210  of  9,740.    Elapsed: 0:42:39.\n",
      "  Batch 6,240  of  9,740.    Elapsed: 0:42:51.\n",
      "  Batch 6,270  of  9,740.    Elapsed: 0:43:04.\n",
      "  Batch 6,300  of  9,740.    Elapsed: 0:43:16.\n",
      "  Batch 6,330  of  9,740.    Elapsed: 0:43:29.\n",
      "  Batch 6,360  of  9,740.    Elapsed: 0:43:41.\n",
      "  Batch 6,390  of  9,740.    Elapsed: 0:43:53.\n",
      "  Batch 6,420  of  9,740.    Elapsed: 0:44:06.\n",
      "  Batch 6,450  of  9,740.    Elapsed: 0:44:18.\n",
      "  Batch 6,480  of  9,740.    Elapsed: 0:44:30.\n",
      "  Batch 6,510  of  9,740.    Elapsed: 0:44:43.\n",
      "  Batch 6,540  of  9,740.    Elapsed: 0:44:55.\n",
      "  Batch 6,570  of  9,740.    Elapsed: 0:45:08.\n",
      "  Batch 6,600  of  9,740.    Elapsed: 0:45:20.\n",
      "  Batch 6,630  of  9,740.    Elapsed: 0:45:32.\n",
      "  Batch 6,660  of  9,740.    Elapsed: 0:45:45.\n",
      "  Batch 6,690  of  9,740.    Elapsed: 0:45:57.\n",
      "  Batch 6,720  of  9,740.    Elapsed: 0:46:10.\n",
      "  Batch 6,750  of  9,740.    Elapsed: 0:46:22.\n",
      "  Batch 6,780  of  9,740.    Elapsed: 0:46:34.\n",
      "  Batch 6,810  of  9,740.    Elapsed: 0:46:47.\n",
      "  Batch 6,840  of  9,740.    Elapsed: 0:46:59.\n",
      "  Batch 6,870  of  9,740.    Elapsed: 0:47:12.\n",
      "  Batch 6,900  of  9,740.    Elapsed: 0:47:24.\n",
      "  Batch 6,930  of  9,740.    Elapsed: 0:47:37.\n",
      "  Batch 6,960  of  9,740.    Elapsed: 0:47:49.\n",
      "  Batch 6,990  of  9,740.    Elapsed: 0:48:02.\n",
      "  Batch 7,020  of  9,740.    Elapsed: 0:48:14.\n",
      "  Batch 7,050  of  9,740.    Elapsed: 0:48:27.\n",
      "  Batch 7,080  of  9,740.    Elapsed: 0:48:39.\n",
      "  Batch 7,110  of  9,740.    Elapsed: 0:48:52.\n",
      "  Batch 7,140  of  9,740.    Elapsed: 0:49:04.\n",
      "  Batch 7,170  of  9,740.    Elapsed: 0:49:17.\n",
      "  Batch 7,200  of  9,740.    Elapsed: 0:49:29.\n",
      "  Batch 7,230  of  9,740.    Elapsed: 0:49:42.\n",
      "  Batch 7,260  of  9,740.    Elapsed: 0:49:54.\n",
      "  Batch 7,290  of  9,740.    Elapsed: 0:50:07.\n",
      "  Batch 7,320  of  9,740.    Elapsed: 0:50:19.\n",
      "  Batch 7,350  of  9,740.    Elapsed: 0:50:31.\n",
      "  Batch 7,380  of  9,740.    Elapsed: 0:50:44.\n",
      "  Batch 7,410  of  9,740.    Elapsed: 0:50:56.\n",
      "  Batch 7,440  of  9,740.    Elapsed: 0:51:09.\n",
      "  Batch 7,470  of  9,740.    Elapsed: 0:51:21.\n",
      "  Batch 7,500  of  9,740.    Elapsed: 0:51:34.\n",
      "  Batch 7,530  of  9,740.    Elapsed: 0:51:46.\n",
      "  Batch 7,560  of  9,740.    Elapsed: 0:51:59.\n",
      "  Batch 7,590  of  9,740.    Elapsed: 0:52:11.\n",
      "  Batch 7,620  of  9,740.    Elapsed: 0:52:24.\n",
      "  Batch 7,650  of  9,740.    Elapsed: 0:52:36.\n",
      "  Batch 7,680  of  9,740.    Elapsed: 0:52:49.\n",
      "  Batch 7,710  of  9,740.    Elapsed: 0:53:01.\n",
      "  Batch 7,740  of  9,740.    Elapsed: 0:53:14.\n",
      "  Batch 7,770  of  9,740.    Elapsed: 0:53:26.\n",
      "  Batch 7,800  of  9,740.    Elapsed: 0:53:39.\n",
      "  Batch 7,830  of  9,740.    Elapsed: 0:53:51.\n",
      "  Batch 7,860  of  9,740.    Elapsed: 0:54:04.\n",
      "  Batch 7,890  of  9,740.    Elapsed: 0:54:16.\n",
      "  Batch 7,920  of  9,740.    Elapsed: 0:54:28.\n",
      "  Batch 7,950  of  9,740.    Elapsed: 0:54:41.\n",
      "  Batch 7,980  of  9,740.    Elapsed: 0:54:53.\n",
      "  Batch 8,010  of  9,740.    Elapsed: 0:55:06.\n",
      "  Batch 8,040  of  9,740.    Elapsed: 0:55:18.\n",
      "  Batch 8,070  of  9,740.    Elapsed: 0:55:31.\n",
      "  Batch 8,100  of  9,740.    Elapsed: 0:55:43.\n",
      "  Batch 8,130  of  9,740.    Elapsed: 0:55:56.\n",
      "  Batch 8,160  of  9,740.    Elapsed: 0:56:08.\n",
      "  Batch 8,190  of  9,740.    Elapsed: 0:56:21.\n",
      "  Batch 8,220  of  9,740.    Elapsed: 0:56:33.\n",
      "  Batch 8,250  of  9,740.    Elapsed: 0:56:46.\n",
      "  Batch 8,280  of  9,740.    Elapsed: 0:56:58.\n",
      "  Batch 8,310  of  9,740.    Elapsed: 0:57:11.\n",
      "  Batch 8,340  of  9,740.    Elapsed: 0:57:23.\n",
      "  Batch 8,370  of  9,740.    Elapsed: 0:57:36.\n",
      "  Batch 8,400  of  9,740.    Elapsed: 0:57:48.\n",
      "  Batch 8,430  of  9,740.    Elapsed: 0:58:00.\n",
      "  Batch 8,460  of  9,740.    Elapsed: 0:58:13.\n",
      "  Batch 8,490  of  9,740.    Elapsed: 0:58:25.\n",
      "  Batch 8,520  of  9,740.    Elapsed: 0:58:38.\n",
      "  Batch 8,550  of  9,740.    Elapsed: 0:58:50.\n",
      "  Batch 8,580  of  9,740.    Elapsed: 0:59:03.\n",
      "  Batch 8,610  of  9,740.    Elapsed: 0:59:15.\n",
      "  Batch 8,640  of  9,740.    Elapsed: 0:59:28.\n",
      "  Batch 8,670  of  9,740.    Elapsed: 0:59:40.\n",
      "  Batch 8,700  of  9,740.    Elapsed: 0:59:53.\n",
      "  Batch 8,730  of  9,740.    Elapsed: 1:00:05.\n",
      "  Batch 8,760  of  9,740.    Elapsed: 1:00:18.\n",
      "  Batch 8,790  of  9,740.    Elapsed: 1:00:30.\n",
      "  Batch 8,820  of  9,740.    Elapsed: 1:00:43.\n",
      "  Batch 8,850  of  9,740.    Elapsed: 1:00:55.\n",
      "  Batch 8,880  of  9,740.    Elapsed: 1:01:08.\n",
      "  Batch 8,910  of  9,740.    Elapsed: 1:01:20.\n",
      "  Batch 8,940  of  9,740.    Elapsed: 1:01:33.\n",
      "  Batch 8,970  of  9,740.    Elapsed: 1:01:45.\n",
      "  Batch 9,000  of  9,740.    Elapsed: 1:01:58.\n",
      "  Batch 9,030  of  9,740.    Elapsed: 1:02:10.\n",
      "  Batch 9,060  of  9,740.    Elapsed: 1:02:23.\n",
      "  Batch 9,090  of  9,740.    Elapsed: 1:02:35.\n",
      "  Batch 9,120  of  9,740.    Elapsed: 1:02:47.\n",
      "  Batch 9,150  of  9,740.    Elapsed: 1:03:00.\n",
      "  Batch 9,180  of  9,740.    Elapsed: 1:03:12.\n",
      "  Batch 9,210  of  9,740.    Elapsed: 1:03:25.\n",
      "  Batch 9,240  of  9,740.    Elapsed: 1:03:37.\n",
      "  Batch 9,270  of  9,740.    Elapsed: 1:03:50.\n",
      "  Batch 9,300  of  9,740.    Elapsed: 1:04:02.\n",
      "  Batch 9,330  of  9,740.    Elapsed: 1:04:15.\n",
      "  Batch 9,360  of  9,740.    Elapsed: 1:04:27.\n",
      "  Batch 9,390  of  9,740.    Elapsed: 1:04:40.\n",
      "  Batch 9,420  of  9,740.    Elapsed: 1:04:52.\n",
      "  Batch 9,450  of  9,740.    Elapsed: 1:05:05.\n",
      "  Batch 9,480  of  9,740.    Elapsed: 1:05:17.\n",
      "  Batch 9,510  of  9,740.    Elapsed: 1:05:30.\n",
      "  Batch 9,540  of  9,740.    Elapsed: 1:05:42.\n",
      "  Batch 9,570  of  9,740.    Elapsed: 1:05:55.\n",
      "  Batch 9,600  of  9,740.    Elapsed: 1:06:07.\n",
      "  Batch 9,630  of  9,740.    Elapsed: 1:06:19.\n",
      "  Batch 9,660  of  9,740.    Elapsed: 1:06:32.\n",
      "  Batch 9,690  of  9,740.    Elapsed: 1:06:44.\n",
      "  Batch 9,720  of  9,740.    Elapsed: 1:06:57.\n",
      "\n",
      "  Average training loss: 0.09\n",
      "  Training epoch took: 1:07:05\n",
      "\n",
      "Running Validation...\n",
      "  Accuracy: 0.98\n",
      "  Validation took: 0:05:58\n",
      "\n",
      "Training complete!\n"
     ]
    }
   ]
  },
  {
   "cell_type": "code",
   "source": [
    "# Create sentence and label lists for test data\n",
    "comments1 = df_test.Review.values.tolist()\n",
    "labels1 = df_test.Rating.values.tolist()\n",
    "\n",
    "indices1=tokenizer.batch_encode_plus(comments1,max_length=150,add_special_tokens=True, return_attention_mask=True,pad_to_max_length=True,truncation=True)\n",
    "input_ids1=indices1[\"input_ids\"]\n",
    "attention_masks1=indices1[\"attention_mask\"]\n",
    "\n",
    "prediction_inputs1= torch.tensor(input_ids1)\n",
    "prediction_masks1 = torch.tensor(attention_masks1)\n",
    "prediction_labels1 = torch.tensor(labels1)\n",
    "\n",
    "# Set the batch size.  \n",
    "batch_size = 16 \n",
    "\n",
    "# Create the DataLoader.\n",
    "prediction_data1 = TensorDataset(prediction_inputs1, prediction_masks1, prediction_labels1)\n",
    "prediction_sampler1 = SequentialSampler(prediction_data1)\n",
    "prediction_dataloader1 = DataLoader(prediction_data1, sampler=prediction_sampler1, batch_size=batch_size)"
   ],
   "metadata": {
    "id": "tZBzWpMy_qSI",
    "colab": {
     "base_uri": "https://localhost:8080/"
    },
    "executionInfo": {
     "status": "ok",
     "timestamp": 1657285241498,
     "user_tz": -180,
     "elapsed": 12137,
     "user": {
      "displayName": "Osman Karabulut",
      "userId": "00375047694445380885"
     }
    },
    "outputId": "170cfa4f-898d-4381-e8f6-31611479d5e2",
    "pycharm": {
     "name": "#%%\n"
    }
   },
   "execution_count": 35,
   "outputs": [
    {
     "output_type": "stream",
     "name": "stderr",
     "text": [
      "/usr/local/lib/python3.7/dist-packages/transformers/tokenization_utils_base.py:2307: FutureWarning: The `pad_to_max_length` argument is deprecated and will be removed in a future version, use `padding=True` or `padding='longest'` to pad to the longest sequence in the batch, or use `padding='max_length'` to pad to a max length. In this case, you can give a specific length with `max_length` (e.g. `max_length=45`) or leave max_length to None to pad to the maximal input size of the model (e.g. 512 for Bert).\n",
      "  FutureWarning,\n"
     ]
    }
   ]
  },
  {
   "cell_type": "code",
   "source": [
    "torch.save(model.state_dict(), '/content/drive/MyDrive/Hepsiburada Proje/model_weights_bert.pth')"
   ],
   "metadata": {
    "id": "PagtDcIy5qfd",
    "executionInfo": {
     "status": "ok",
     "timestamp": 1657285469124,
     "user_tz": -180,
     "elapsed": 3252,
     "user": {
      "displayName": "Osman Karabulut",
      "userId": "00375047694445380885"
     }
    },
    "pycharm": {
     "name": "#%%\n"
    }
   },
   "execution_count": 43,
   "outputs": []
  },
  {
   "cell_type": "code",
   "source": [
    "\n",
    "print('Predicting labels for {:,} test sentences...'.format(len(prediction_inputs1)))\n",
    "\n",
    "# Put model in evaluation mode\n",
    "model.eval()\n",
    "\n",
    "# Tracking variables \n",
    "predictions , true_labels = [], []\n",
    "\n",
    "# Predict \n",
    "for batch in prediction_dataloader1:\n",
    "  # Add batch to GPU\n",
    "  batch = tuple(t.to(device) for t in batch)\n",
    "  \n",
    "  # Unpack the inputs from our dataloader\n",
    "  b_input_ids1, b_input_mask1, b_labels1 = batch\n",
    "  \n",
    "  # Telling the model not to compute or store gradients, saving memory and \n",
    "  # speeding up prediction\n",
    "  with torch.no_grad():\n",
    "      # Forward pass, calculate logit predictions\n",
    "      outputs1 = model(b_input_ids1, token_type_ids=None, \n",
    "                      attention_mask=b_input_mask1)\n",
    "\n",
    "  logits1 = outputs1[0]\n",
    "\n",
    "  # Move logits and labels to CPU\n",
    "  logits1 = logits1.detach().cpu().numpy()\n",
    "  label_ids1 = b_labels1.to('cpu').numpy()\n",
    "  \n",
    "  # Store predictions and true labels\n",
    "  predictions.append(logits1)\n",
    "  true_labels.append(label_ids1)\n",
    "\n",
    "print('    DONE.')"
   ],
   "metadata": {
    "id": "uQKh6imw_so1",
    "colab": {
     "base_uri": "https://localhost:8080/"
    },
    "executionInfo": {
     "status": "ok",
     "timestamp": 1657285918586,
     "user_tz": -180,
     "elapsed": 447346,
     "user": {
      "displayName": "Osman Karabulut",
      "userId": "00375047694445380885"
     }
    },
    "outputId": "f680ff23-8154-44c0-842d-a9fd1c9799e5",
    "pycharm": {
     "name": "#%%\n"
    }
   },
   "execution_count": 44,
   "outputs": [
    {
     "output_type": "stream",
     "name": "stdout",
     "text": [
      "Predicting labels for 48,700 test sentences...\n",
      "    DONE.\n"
     ]
    }
   ]
  },
  {
   "cell_type": "code",
   "source": [
    "# Combine the predictions for each batch into a single list of 0s and 1s.\n",
    "flat_predictions = [item for sublist in predictions for item in sublist]\n",
    "flat_predictions = np.argmax(flat_predictions, axis=1).flatten()\n",
    "# Combine the correct labels for each batch into a single list.\n",
    "flat_true_labels = [item for sublist in true_labels for item in sublist]"
   ],
   "metadata": {
    "id": "HMjQPpn__uRM",
    "executionInfo": {
     "status": "ok",
     "timestamp": 1657285918586,
     "user_tz": -180,
     "elapsed": 19,
     "user": {
      "displayName": "Osman Karabulut",
      "userId": "00375047694445380885"
     }
    },
    "pycharm": {
     "name": "#%%\n"
    }
   },
   "execution_count": 45,
   "outputs": []
  },
  {
   "cell_type": "code",
   "source": [
    "from sklearn.metrics import accuracy_score\n",
    "print(\"Accuracy of BERT is:\",accuracy_score(flat_true_labels, flat_predictions))"
   ],
   "metadata": {
    "id": "uQVPMpxt_vp1",
    "colab": {
     "base_uri": "https://localhost:8080/"
    },
    "executionInfo": {
     "status": "ok",
     "timestamp": 1657285918586,
     "user_tz": -180,
     "elapsed": 11,
     "user": {
      "displayName": "Osman Karabulut",
      "userId": "00375047694445380885"
     }
    },
    "outputId": "a4f344c2-f028-4f43-c999-40599b5dadf4",
    "pycharm": {
     "name": "#%%\n"
    }
   },
   "execution_count": 46,
   "outputs": [
    {
     "output_type": "stream",
     "name": "stdout",
     "text": [
      "Accuracy of BERT is: 0.9792813141683778\n"
     ]
    }
   ]
  },
  {
   "cell_type": "code",
   "source": [
    "from sklearn.metrics import classification_report\n",
    "print(classification_report(flat_true_labels, flat_predictions))"
   ],
   "metadata": {
    "id": "vGLxf-fH_xTx",
    "colab": {
     "base_uri": "https://localhost:8080/"
    },
    "executionInfo": {
     "status": "ok",
     "timestamp": 1657285918587,
     "user_tz": -180,
     "elapsed": 11,
     "user": {
      "displayName": "Osman Karabulut",
      "userId": "00375047694445380885"
     }
    },
    "outputId": "a5339dbd-1583-4996-f9b4-56d06027c23d",
    "pycharm": {
     "name": "#%%\n"
    }
   },
   "execution_count": 47,
   "outputs": [
    {
     "output_type": "stream",
     "name": "stdout",
     "text": [
      "              precision    recall  f1-score   support\n",
      "\n",
      "           0       0.86      0.73      0.79      2613\n",
      "           1       0.98      0.99      0.99     46087\n",
      "\n",
      "    accuracy                           0.98     48700\n",
      "   macro avg       0.92      0.86      0.89     48700\n",
      "weighted avg       0.98      0.98      0.98     48700\n",
      "\n"
     ]
    }
   ]
  },
  {
   "cell_type": "code",
   "source": [
    "torch.save(model.state_dict(), \"/content/drive/MyDrive/Hepsiburada Proje\")"
   ],
   "metadata": {
    "id": "BrnsZF1rsSf0",
    "executionInfo": {
     "status": "aborted",
     "timestamp": 1657285323203,
     "user_tz": -180,
     "elapsed": 9,
     "user": {
      "displayName": "Osman Karabulut",
      "userId": "00375047694445380885"
     }
    },
    "pycharm": {
     "name": "#%%\n"
    }
   },
   "execution_count": null,
   "outputs": []
  }
 ]
}